{
 "cells": [
  {
   "cell_type": "code",
   "execution_count": 1,
   "metadata": {},
   "outputs": [],
   "source": [
    "import pandas as pd\n",
    "import numpy as np"
   ]
  },
  {
   "cell_type": "code",
   "execution_count": 2,
   "metadata": {},
   "outputs": [],
   "source": [
    "import json\n",
    "\n",
    "def convert_to_bio_encoding(annotations, text):\n",
    "    e_ind = 0\n",
    "    bio_encoding = []\n",
    "    \n",
    "    for annotation in annotations:\n",
    "        start = annotation['value']['start']\n",
    "        end = annotation['value']['end']\n",
    "        label = annotation['value']['labels'][0]\n",
    "\n",
    "        bio_encoding.extend(['O'] * len(text[e_ind:start].split()))\n",
    "        bio_encoding.extend(['B_' + label] + ['I_' + label] * (len(text[start:end].split()) - 1))\n",
    "        e_ind = end\n",
    "        while(e_ind<len(text) and text[e_ind]!=\" \"):\n",
    "            e_ind+=1\n",
    "        \n",
    "    bio_encoding.extend(['O'] * len(text[e_ind:].split()))\n",
    "\n",
    "    return bio_encoding\n",
    "\n",
    "def preprocess_data(original_data):\n",
    "    processed_data = {}\n",
    "\n",
    "    for i,entry in enumerate(original_data):\n",
    "        entry_id = entry['id']\n",
    "        annotations = entry['annotations'][0]['result']\n",
    "        text = entry['data']['text']\n",
    "\n",
    "        bio_encoding = convert_to_bio_encoding(annotations, text)\n",
    "\n",
    "        processed_data[entry_id] = {\n",
    "            'text': text,\n",
    "            'labels': bio_encoding\n",
    "        }\n",
    "\n",
    "    return processed_data\n"
   ]
  },
  {
   "cell_type": "code",
   "execution_count": 3,
   "metadata": {},
   "outputs": [],
   "source": [
    "t1_train_data = \"./Task1_data/NER_TRAIN_JUDGEMENT.json\"\n",
    "t1_test_data = \"./Task1_data/NER_TEST_JUDGEMENT.json\""
   ]
  },
  {
   "cell_type": "code",
   "execution_count": 4,
   "metadata": {},
   "outputs": [],
   "source": [
    "with open(t1_train_data, 'r') as file:\n",
    "    tr_data = json.load(file)\n",
    "with open(t1_test_data, 'r') as file:\n",
    "    test_data = json.load(file)\n",
    "\n",
    "from sklearn.model_selection import train_test_split\n",
    "\n",
    "train_data, val_data = train_test_split(tr_data, test_size=0.15, random_state=21)\n",
    "\n",
    "processed_train_data = preprocess_data(train_data)\n",
    "processed_val_data = preprocess_data(val_data)\n",
    "processed_test_data = preprocess_data(test_data)\n",
    "\n",
    "\n",
    "with open('./Task1_data/NER_train.json', 'w') as file:\n",
    "    json.dump(processed_train_data, file, indent=2)\n",
    "with open('./Task1_data/NER_val.json', 'w') as file:\n",
    "    json.dump(processed_val_data, file, indent=2)\n",
    "with open('./Task1_data/NER_test.json', 'w') as file:\n",
    "    json.dump(processed_test_data, file, indent=2)"
   ]
  }
 ],
 "metadata": {
  "kernelspec": {
   "display_name": "Python 3",
   "language": "python",
   "name": "python3"
  },
  "language_info": {
   "codemirror_mode": {
    "name": "ipython",
    "version": 3
   },
   "file_extension": ".py",
   "mimetype": "text/x-python",
   "name": "python",
   "nbconvert_exporter": "python",
   "pygments_lexer": "ipython3",
   "version": "3.10.4"
  }
 },
 "nbformat": 4,
 "nbformat_minor": 2
}
