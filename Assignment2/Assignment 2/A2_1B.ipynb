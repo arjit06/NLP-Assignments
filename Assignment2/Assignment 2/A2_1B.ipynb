{
 "cells": [
  {
   "cell_type": "code",
   "execution_count": 2,
   "metadata": {},
   "outputs": [],
   "source": [
    "import json\n",
    "\n",
    "def convert_to_bio_encoding(annotations, text):\n",
    "    bio_encoding = ['O']*len(text.split(' '))\n",
    "\n",
    "    for annotation in annotations:\n",
    "        start = annotation['from']\n",
    "        end = annotation['to']\n",
    "        bio_encoding[start] = 'B'\n",
    "        for i in range(start+1,end):\n",
    "            bio_encoding[i] = 'I'\n",
    "\n",
    "    return bio_encoding\n",
    "\n",
    "def preprocess_data(original_data):\n",
    "    processed_data = {}\n",
    "\n",
    "    for i,entry in enumerate(original_data):\n",
    "        entry_id = i+1\n",
    "        text = entry['raw_words']\n",
    "        annotations = entry['aspects']\n",
    "\n",
    "        bio_encoding = convert_to_bio_encoding(annotations, text)\n",
    "\n",
    "        processed_data[entry_id] = {\n",
    "            'text': text,\n",
    "            'labels': bio_encoding\n",
    "        }\n",
    "\n",
    "    return processed_data\n"
   ]
  },
  {
   "cell_type": "code",
   "execution_count": 5,
   "metadata": {},
   "outputs": [],
   "source": [
    "t2_train_data = \"./Task2_data/Laptop_Review_Train.json\"\n",
    "t2_test_data = \"./Task2_data/Laptop_Review_Test.json\"\n",
    "t2_val_data = \"./Task2_data/Laptop_Review_Val.json\""
   ]
  },
  {
   "cell_type": "code",
   "execution_count": 6,
   "metadata": {},
   "outputs": [],
   "source": [
    "with open(t2_train_data, 'r') as file:\n",
    "    tr_data = json.load(file)\n",
    "with open(t2_test_data, 'r') as file:\n",
    "    test_data = json.load(file)\n",
    "with open(t2_val_data, 'r') as file:\n",
    "    val_data = json.load(file)\n",
    "\n",
    "processed_train_data = preprocess_data(tr_data)\n",
    "processed_val_data = preprocess_data(val_data)\n",
    "processed_test_data = preprocess_data(test_data)\n",
    "\n",
    "with open('./Task2_data/ATE_train.json', 'w') as file:\n",
    "    json.dump(processed_train_data, file, indent=2)\n",
    "with open('./Task2_data/ATE_val.json', 'w') as file:\n",
    "    json.dump(processed_val_data, file, indent=2)\n",
    "with open('./Task2_data/ATE_test.json', 'w') as file:\n",
    "    json.dump(processed_test_data, file, indent=2)"
   ]
  }
 ],
 "metadata": {
  "kernelspec": {
   "display_name": "Python 3",
   "language": "python",
   "name": "python3"
  },
  "language_info": {
   "codemirror_mode": {
    "name": "ipython",
    "version": 3
   },
   "file_extension": ".py",
   "mimetype": "text/x-python",
   "name": "python",
   "nbconvert_exporter": "python",
   "pygments_lexer": "ipython3",
   "version": "3.10.4"
  }
 },
 "nbformat": 4,
 "nbformat_minor": 2
}
