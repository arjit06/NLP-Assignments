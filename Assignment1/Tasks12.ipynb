{
 "cells": [
  {
   "cell_type": "markdown",
   "metadata": {},
   "source": [
    "## NLP Assignment 1\n",
    "---"
   ]
  },
  {
   "cell_type": "markdown",
   "metadata": {},
   "source": [
    "### Task 1"
   ]
  },
  {
   "cell_type": "code",
   "execution_count": 1,
   "metadata": {
    "id": "1h-k-D1ZXZkk"
   },
   "outputs": [],
   "source": [
    "import re\n",
    "import os\n",
    "from collections import defaultdict"
   ]
  },
  {
   "cell_type": "code",
   "execution_count": 2,
   "metadata": {
    "id": "Vb6W49OSb6Rv"
   },
   "outputs": [],
   "source": [
    "class Tokenizer:\n",
    "  def __init__(self):\n",
    "    self.vocab = defaultdict(int)\n",
    "    self.all_tokens= defaultdict(int)  # all tokens from first to last\n",
    "    self.merge_rules=[]\n",
    "    self.final_tokens=[]         # only the final tokens\n",
    "\n",
    "\n",
    "\n",
    "  def merge_vocabulary(self,pair, vocab_old):\n",
    "    vocab_new = {}\n",
    "    self.merge_rules.append(pair)\n",
    "    bigram = re.escape(' '.join(pair))\n",
    "    regex=re.compile(r'(?<!\\S)' + bigram + r'(?!\\S)')\n",
    "\n",
    "   # merge the old vocab based on the new merging rule\n",
    "    for word in vocab_old:\n",
    "        w_out = regex.sub(''.join(pair), word) #find all words where bigram was found in the old vocab\n",
    "        all_tokens=w_out.split()\n",
    "        for a in all_tokens: self.all_tokens[a]+=1\n",
    "        vocab_new[w_out] = vocab_old[word]\n",
    "    return vocab_new\n",
    "\n",
    "\n",
    "\n",
    "  def learn_vocabulary(self, corpus, num_merges):\n",
    "      ### create a list of strings\n",
    "      data = corpus.split('\\n')\n",
    "\n",
    "      ### updating dict vocab with words and frequencies\n",
    "      for line in data:\n",
    "          for word in line.split():\n",
    "            new_word=' '.join(list(word)) + ' $'\n",
    "            self.vocab[new_word] += 1\n",
    "\n",
    "            all_tokens=new_word.split()\n",
    "            for a in all_tokens: self.all_tokens[a]+=1\n",
    "\n",
    "\n",
    "      ### making pairs and updating their frequencies\n",
    "      for _ in range(num_merges):\n",
    "          pairs = defaultdict(int)\n",
    "          for word,freq in self.vocab.items():\n",
    "              chars = word.split()\n",
    "              for j in range(len(chars)-1):\n",
    "                  pairs[chars[j],chars[j+1]] += freq\n",
    "\n",
    "\n",
    "          best_pair = max(pairs, key=pairs.get)\n",
    "          self.vocab = self.merge_vocabulary(best_pair, self.vocab)\n",
    "\n",
    "      t = \" \".join(list(self.vocab.keys()))\n",
    "      d=defaultdict(int)\n",
    "      l=t.split()\n",
    "      for a in l: d[a]+=1\n",
    "      self.final_tokens=list(d.keys())\n",
    "\n",
    "\n",
    "\n",
    "  def tokenize(self,text_lists):\n",
    "    # divide the text into individual letters\n",
    "\n",
    "     ans_list=[]\n",
    "     for a in text_lists:\n",
    "          text=a\n",
    "          data = text.split('\\n')\n",
    "          new_text=\"\"\n",
    "          for line in data:\n",
    "              for word in line.split():\n",
    "                  new_word=' '.join(list(word)) + ' $ '\n",
    "                  new_text+=new_word\n",
    "\n",
    "          # Tokenize the text based on merge rules\n",
    "          merge_rules=self.merge_rules\n",
    "          for rule in merge_rules:\n",
    "              merged_token = \"\".join(rule)\n",
    "              new_text = new_text.replace(\" \".join(rule),merged_token)\n",
    "\n",
    "          tokens = new_text.split()\n",
    "          # print(tokens)\n",
    "          # print()\n",
    "          ans_list.append(tokens)\n",
    "\n",
    "\n",
    "     return ans_list\n",
    "  \n",
    "\n",
    "  def write_to_file(self,root,text_list):\n",
    "      token_path = os.path.join(root,\"tokens.txt\")\n",
    "      rules_path = os.path.join(root,\"merge_rules.txt\")\n",
    "      samples_path = os.path.join(root,\"tokenized_samples.txt\")\n",
    "\n",
    "      file=open(token_path,\"w+\")\n",
    "      for a in list(self.all_tokens.keys()):\n",
    "          file.write(a+\"\\n\")\n",
    "      file.close()\n",
    "\n",
    "\n",
    "      file=open(rules_path,\"w+\")\n",
    "      for a in self.merge_rules:\n",
    "          file.write(a[0]+\",\"+a[1]+\"\\n\")\n",
    "      file.close()\n",
    "\n",
    "\n",
    "      file=open(samples_path,\"w\")\n",
    "      for a in text_list:\n",
    "          s=\",\".join(a)+\"\\n\"\n",
    "          print(s)\n",
    "          file.write(s)\n",
    "      file.close()"
   ]
  },
  {
   "cell_type": "code",
   "execution_count": 3,
   "metadata": {
    "colab": {
     "base_uri": "https://localhost:8080/"
    },
    "id": "eIchd84qlplY",
    "outputId": "a2bc1cc2-d4eb-47c1-c810-b4e37c5167f2"
   },
   "outputs": [],
   "source": [
    "if __name__ == \"__main__\":\n",
    "    num_merges = 500\n",
    "\n",
    "    file=open(\"./corpus/corpus.txt\",\"r\")\n",
    "    corpus=file.read()\n",
    "    # file.seek(0)\n",
    "    # test_corpus=file.readlines()\n",
    "\n",
    "    tokenizer = Tokenizer()\n",
    "    tokenizer.learn_vocabulary(corpus, num_merges)\n"
   ]
  },
  {
   "cell_type": "code",
   "execution_count": 5,
   "metadata": {},
   "outputs": [
    {
     "name": "stdout",
     "output_type": "stream",
     "text": [
      "T,o,ken,i,z,ation$,is$,the$,proc,ess$,of$,brea,king$,down$,a$,se,qu,ence$,of$,tex,t$,into$,s,maller$,un,its$,called$,to,ken,s,,,$,which$,can$,be$,wor,d,s,,,$,p,h,rases,,,$,or$,even$,in,di,vi,du,al$,charac,ter,s,.,$\n",
      "\n",
      "T,o,ken,i,z,ation$,is$,of,ten$,the$,fir,st$,step$,in$,n,atural$,l,angu,ages$,proc,es,sing$,tas,ks$,su,ch$,as$,tex,t$,cl,as,si,fication,,,$,n,amed$,en,tity$,re,co,g,n,ition,,,$,and$,sen,timent$,an,al,y,sis,.,$\n",
      "\n",
      "T,he$,resul,ting$,to,ken,s$,are$,t,y,p,ically$,used$,as$,in,pu,t$,to$,fur,ther$,proc,es,sing$,step,s,,,$,su,ch$,as$,v,e,c,tori,z,ation,,,$,where$,the$,to,ken,s$,are$,con,ver,ted$,into$,n,u,merical$,represen,tations$,for$,machine$,lear,ning$,mo,del,s$,to$,use,.,$\n",
      "\n"
     ]
    }
   ],
   "source": [
    "if __name__ == \"__main__\":\n",
    "    test_corpus=['''Tokenization is the process of breaking down a sequence of text into smaller units called tokens, which can be words, phrases, or even individual characters.''',\n",
    "    '''Tokenization is often the first step in natural languages processing tasks such as text classification, named entity recognition, and sentiment analysis.''',\n",
    "    '''The resulting tokens are typically used as input to further processing steps, such as vectorization, where the tokens are converted into numerical representations for machine learning models to use.'''  ]\n",
    "    \n",
    "    text_list=tokenizer.tokenize(test_corpus)\n",
    "\n",
    "    tokenizer.write_to_file(\"./merged_tokens/\",text_list)"
   ]
  },
  {
   "cell_type": "code",
   "execution_count": 1,
   "metadata": {
    "id": "1h-k-D1ZXZkk"
   },
   "outputs": [
    {
     "name": "stderr",
     "output_type": "stream",
     "text": [
      "/Library/Frameworks/Python.framework/Versions/3.10/lib/python3.10/site-packages/transformers/utils/generic.py:441: UserWarning: torch.utils._pytree._register_pytree_node is deprecated. Please use torch.utils._pytree.register_pytree_node instead.\n",
      "  _torch_pytree._register_pytree_node(\n",
      "/Library/Frameworks/Python.framework/Versions/3.10/lib/python3.10/site-packages/transformers/utils/generic.py:309: UserWarning: torch.utils._pytree._register_pytree_node is deprecated. Please use torch.utils._pytree.register_pytree_node instead.\n",
      "  _torch_pytree._register_pytree_node(\n",
      "/Library/Frameworks/Python.framework/Versions/3.10/lib/python3.10/site-packages/transformers/utils/generic.py:309: UserWarning: torch.utils._pytree._register_pytree_node is deprecated. Please use torch.utils._pytree.register_pytree_node instead.\n",
      "  _torch_pytree._register_pytree_node(\n",
      "/Library/Frameworks/Python.framework/Versions/3.10/lib/python3.10/site-packages/transformers/pipelines/text_classification.py:105: UserWarning: `return_all_scores` is now deprecated,  if want a similar functionality use `top_k=None` instead of `return_all_scores=True` or `top_k=1` instead of `return_all_scores=False`.\n",
      "  warnings.warn(\n"
     ]
    }
   ],
   "source": [
    "from collections import defaultdict\n",
    "import numpy as np\n",
    "import utils"
   ]
  },
  {
   "cell_type": "markdown",
   "metadata": {
    "id": "RHPBVSUMlcIj"
   },
   "source": [
    "<br><br><br>\n",
    "<h3> Task 2: Bigram Model </h3>"
   ]
  },
  {
   "cell_type": "code",
   "execution_count": 2,
   "metadata": {
    "id": "V7bbBl3Qldgg"
   },
   "outputs": [],
   "source": [
    "class BigramLMWithEmotion:\n",
    "    def __init__(self, start_token='<s>', end_token='<eos>'):\n",
    "        self.vocab = set()\n",
    "        self.data = None\n",
    "        self.start_token = start_token\n",
    "        self.end_token = end_token\n",
    "        self.bigram_counts = {}\n",
    "        self.n_bigrams = 0\n",
    "        self.unigram_counts = defaultdict(int)\n",
    "        self.bigram_probs = {}\n",
    "        self.bigram_emotion_probs = {}\n",
    "        self.smoothing_method = None\n",
    "        self.emotion_classifier = utils.emotion_scores\n",
    "\n",
    "\n",
    "    \n",
    "    def learn_vocabulary(self, data, smoothing_method=None, with_emotion=False):\n",
    "        self.data = data\n",
    "        self.smoothing_method = smoothing_method\n",
    "        self._count_bigrams()\n",
    "        self._estimate_probabilities()\n",
    "        if with_emotion:\n",
    "            self._modify_bigram_probs_with_emotions()\n",
    "\n",
    "\n",
    "\n",
    "    def _count_bigrams(self):\n",
    "        self.n_bigrams = 0\n",
    "        #compute bigram counts\n",
    "        for sentence in self.data:\n",
    "            tokens = sentence.split()\n",
    "            tokens = [self.start_token] + tokens + [self.end_token]\n",
    "\n",
    "            self.vocab.update(tokens)\n",
    "\n",
    "            for i in range(len(tokens) - 1):\n",
    "                current_bigram = (tokens[i],tokens[i+1])\n",
    "                self.unigram_counts[tokens[i]]+=1\n",
    "                self.bigram_counts[current_bigram] = self.bigram_counts.get(current_bigram, 0) + 1\n",
    "                self.n_bigrams += 1\n",
    "\n",
    "            self.unigram_counts[tokens[len(tokens)-1]]+=1\n",
    "\n",
    "\n",
    "    \n",
    "    def _estimate_probabilities(self):\n",
    "        if self.smoothing_method == 'laplace':\n",
    "            self._laplace_smoothing()\n",
    "        elif self.smoothing_method == 'kneser-ney':\n",
    "            self._kneser_ney_smoothing()\n",
    "        else:\n",
    "            for bigram in self.bigram_counts:\n",
    "                first_word = bigram[0]\n",
    "                count=self.bigram_counts[bigram]\n",
    "                probability=count/ self.unigram_counts[first_word]\n",
    "                self.bigram_probs[bigram]=probability\n",
    "\n",
    "\n",
    "\n",
    "    def _laplace_smoothing(self):\n",
    "        V = len(self.vocab)\n",
    "        for bigram in self.bigram_counts:\n",
    "            first_word = bigram[0]\n",
    "            curr_bigram_count=self.bigram_counts[bigram]\n",
    "            smoothed_prob=(curr_bigram_count+1)/(self.unigram_counts[first_word]+V)\n",
    "            self.bigram_probs[bigram]=smoothed_prob\n",
    "\n",
    "\n",
    "    def _kneser_ney_smoothing(self):\n",
    "        discount = 0.5\n",
    "        n_bigrams = self.n_bigrams\n",
    "\n",
    "        for bigram in self.bigram_counts:\n",
    "            first_word,second_word = bigram\n",
    "            cnt_bigram = self.bigram_counts[bigram]\n",
    "            cnt_unigram = self.unigram_counts[first_word]\n",
    "\n",
    "            cont_cnt = len(set([w1 for (w1,w2) in self.bigram_counts.keys() if w2==second_word]))\n",
    "            alpha_cnt = len(set([w2 for (w1,w2) in self.bigram_counts.keys() if w1==first_word]))\n",
    "            p_cont = cont_cnt/n_bigrams\n",
    "            alpha = (discount/cnt_unigram)*(alpha_cnt)\n",
    "\n",
    "            prob = (max(0,cnt_bigram - discount))/cnt_unigram + alpha*p_cont\n",
    "            self.bigram_probs[bigram] = prob\n",
    "\n",
    "\n",
    "\n",
    "    def generate_text(self,emotion,max_length=20):\n",
    "        generated_text = [self.start_token]\n",
    "\n",
    "        for _ in range(max_length):\n",
    "            next_word = self.generate_next_word(generated_text[-1],emotion)\n",
    "            if next_word == self.end_token:\n",
    "                break\n",
    "            generated_text.append(next_word)\n",
    "\n",
    "        return ' '.join(generated_text)\n",
    "\n",
    "\n",
    "    def generate_next_word(self, prev_word, emotion):\n",
    "        suggestions = [(next_word,self.bigram_emotion_probs[(prev_word,next_word)][emotion]) for (prev_word,next_word) in self.bigram_probs.keys()]\n",
    "        \n",
    "        if(len(suggestions)==0):\n",
    "            return self.end_token\n",
    "        \n",
    "        next_words,probabilities = zip(*suggestions)\n",
    "        total = sum(probabilities)\n",
    "        probabilities = list(probabilities)\n",
    "        for i in range(len(probabilities)):\n",
    "            probabilities[i] /= total\n",
    "        next_word = np.random.choice(next_words,p=probabilities)\n",
    "        return next_word\n",
    "\n",
    "\n",
    "\n",
    "    def _modify_bigram_probs_with_emotions(self):\n",
    "        for bigram in self.bigram_probs:\n",
    "            first_word, second_word = bigram\n",
    "            bigram_emotion_score = self.emotion_classifier(first_word+\" \"+second_word)\n",
    "            unigram_emotion_score = self.emotion_classifier(first_word)\n",
    "\n",
    "            total = 0.0\n",
    "\n",
    "            self.bigram_emotion_probs[bigram] = defaultdict(float)\n",
    "            for i,item in enumerate(bigram_emotion_score):\n",
    "                self.bigram_emotion_probs[bigram][item['label']] = self.bigram_probs[bigram] + item['score']/unigram_emotion_score[i]['score']\n",
    "                total += self.bigram_emotion_probs[bigram][item['label']]\n",
    "            for key in self.bigram_emotion_probs[bigram].keys():\n",
    "                self.bigram_emotion_probs[bigram][key] /= total"
   ]
  },
  {
   "cell_type": "code",
   "execution_count": 3,
   "metadata": {},
   "outputs": [],
   "source": [
    "file=open(\"./corpus/corpus.txt\",\"r\")\n",
    "corpus=file.readlines()"
   ]
  },
  {
   "cell_type": "code",
   "execution_count": 4,
   "metadata": {},
   "outputs": [],
   "source": [
    "def print_top_5_bigrams(bigram_model):\n",
    "    top_5_bigrams = sorted(bigram_model.bigram_probs.items(), key=lambda x: x[1], reverse=True)[:5]\n",
    "    \n",
    "    print(\"Top 5 Bigrams and Probabilities:\")\n",
    "    print(\"\\n{:<20} {:<20}\".format(\"Bigram\", \"Probability\"))\n",
    "    print(\"=\"*40)\n",
    "    for bigram, probability in top_5_bigrams:\n",
    "        print(\"{:<20} {:.4f}\".format(str(bigram), probability))"
   ]
  },
  {
   "cell_type": "code",
   "execution_count": 8,
   "metadata": {},
   "outputs": [
    {
     "name": "stdout",
     "output_type": "stream",
     "text": [
      "Top 5 Bigrams and Probabilities:\n",
      "\n",
      "Bigram               Probability         \n",
      "========================================\n",
      "('href', 'http')     1.0000\n",
      "('mooshilu', '<eos>') 1.0000\n",
      "('tychelle', 'to')   1.0000\n",
      "('hang', 'out')      1.0000\n",
      "('nonexistent', 'social') 1.0000\n"
     ]
    }
   ],
   "source": [
    "bigram_nosmooth = BigramLMWithEmotion()\n",
    "bigram_nosmooth.learn_vocabulary(data=corpus)\n",
    "print_top_5_bigrams(bigram_nosmooth)"
   ]
  },
  {
   "cell_type": "code",
   "execution_count": 5,
   "metadata": {},
   "outputs": [
    {
     "name": "stdout",
     "output_type": "stream",
     "text": [
      "Top 5 Bigrams and Probabilities:\n",
      "\n",
      "Bigram               Probability         \n",
      "========================================\n",
      "('<s>', 'i')         0.2693\n",
      "('i', 'feel')        0.1104\n",
      "('feel', 'like')     0.0351\n",
      "('i', 'am')          0.0319\n",
      "('<s>', 'im')        0.0272\n"
     ]
    }
   ],
   "source": [
    "bigram_laplace = BigramLMWithEmotion()\n",
    "bigram_laplace.learn_vocabulary(data=corpus,smoothing_method='laplace')\n",
    "print_top_5_bigrams(bigram_laplace)"
   ]
  },
  {
   "cell_type": "code",
   "execution_count": 7,
   "metadata": {},
   "outputs": [
    {
     "name": "stdout",
     "output_type": "stream",
     "text": [
      "Top 5 Bigrams and Probabilities:\n",
      "\n",
      "Bigram               Probability         \n",
      "========================================\n",
      "('href', 'http')     0.9800\n",
      "('don', 't')         0.9746\n",
      "('didn', 't')        0.9722\n",
      "('sort', 'of')       0.9708\n",
      "('supposed', 'to')   0.9450\n"
     ]
    }
   ],
   "source": [
    "bigram_kneserney = BigramLMWithEmotion()\n",
    "bigram_kneserney.learn_vocabulary(data=corpus,smoothing_method='kneser-ney')\n",
    "print_top_5_bigrams(bigram_kneserney)"
   ]
  },
  {
   "cell_type": "code",
   "execution_count": 9,
   "metadata": {},
   "outputs": [],
   "source": [
    "bigram_model = BigramLMWithEmotion()\n",
    "bigram_model.learn_vocabulary(data=corpus,smoothing_method='kneser-ney',with_emotion=True)"
   ]
  },
  {
   "cell_type": "code",
   "execution_count": 10,
   "metadata": {},
   "outputs": [],
   "source": [
    "import pickle\n",
    "\n",
    "with open('bigram_model.pkl','wb') as file:\n",
    "    pickle.dump(bigram_model,file)\n",
    "with open('bigram_model.pkl','rb') as file:\n",
    "    loaded_model = pickle.load(file)"
   ]
  },
  {
   "cell_type": "markdown",
   "metadata": {},
   "source": [
    "### Sample Generation"
   ]
  },
  {
   "cell_type": "code",
   "execution_count": 11,
   "metadata": {},
   "outputs": [],
   "source": [
    "class SentenceGenerator:\n",
    "    def __init__(self,emotions,bigram_model):\n",
    "        self.emotions = emotions\n",
    "        self.bigram_model = bigram_model\n",
    "    \n",
    "    def generate(self,n_sentences,min_len):\n",
    "        out_text = {}\n",
    "        for emotion in self.emotions:\n",
    "            out_text[emotion] = []\n",
    "            while(len(out_text[emotion])<n_sentences):\n",
    "                sentence = self.bigram_model.generate_text(emotion)[4:]\n",
    "                if(len(sentence.split(' '))<min_len):\n",
    "                    continue\n",
    "                out_text[emotion].append(sentence)\n",
    "                # print(sentence)\n",
    "        return out_text"
   ]
  },
  {
   "cell_type": "code",
   "execution_count": 12,
   "metadata": {},
   "outputs": [
    {
     "name": "stderr",
     "output_type": "stream",
     "text": [
      "huggingface/tokenizers: The current process just got forked, after parallelism has already been used. Disabling parallelism to avoid deadlocks...\n",
      "To disable this warning, you can either:\n",
      "\t- Avoid using `tokenizers` before the fork if possible\n",
      "\t- Explicitly set the environment variable TOKENIZERS_PARALLELISM=(true | false)\n",
      "huggingface/tokenizers: The current process just got forked, after parallelism has already been used. Disabling parallelism to avoid deadlocks...\n",
      "To disable this warning, you can either:\n",
      "\t- Avoid using `tokenizers` before the fork if possible\n",
      "\t- Explicitly set the environment variable TOKENIZERS_PARALLELISM=(true | false)\n"
     ]
    },
    {
     "name": "stdout",
     "output_type": "stream",
     "text": [
      "sadness: Generated!\n",
      "joy: Generated!\n",
      "fear: Generated!\n",
      "love: Generated!\n",
      "anger: Generated!\n",
      "surprise: Generated!\n"
     ]
    }
   ],
   "source": [
    "emotions = ['sadness','joy','fear','love','anger','surprise']\n",
    "n_sentences = 50\n",
    "min_len = 7\n",
    "\n",
    "generated_samples = SentenceGenerator(emotions,bigram_model).generate(n_sentences,min_len)\n",
    "test_data = []\n",
    "test_labels = []\n",
    "\n",
    "!rm -rf generated_samples\n",
    "!mkdir generated_samples\n",
    "\n",
    "for emotion in emotions:\n",
    "    path = \"./generated_samples/gen_\"+emotion+\".txt\"\n",
    "    file = open(path,\"w+\")\n",
    "    for sent in generated_samples[emotion]:\n",
    "        file.write(sent+\"\\n\")\n",
    "        test_data.append(sent)\n",
    "        test_labels.append(emotion)\n",
    "    file.close()\n",
    "    print(f\"{emotion}: Generated!\")"
   ]
  },
  {
   "cell_type": "code",
   "execution_count": 13,
   "metadata": {},
   "outputs": [],
   "source": [
    "train_labels = []\n",
    "for sent in corpus:\n",
    "    scores = utils.emotion_scores(sent)\n",
    "    mx = 0.0\n",
    "    emot = \"\"\n",
    "    for item in scores:\n",
    "        if item['score']>mx:\n",
    "            emot = item['label']\n",
    "            mx = item['score']\n",
    "    train_labels.append(emot)"
   ]
  },
  {
   "cell_type": "markdown",
   "metadata": {},
   "source": [
    "### Extrinsic Evaluation"
   ]
  },
  {
   "cell_type": "code",
   "execution_count": 19,
   "metadata": {},
   "outputs": [],
   "source": [
    "import warnings\n",
    "warnings.filterwarnings('ignore')"
   ]
  },
  {
   "cell_type": "code",
   "execution_count": 27,
   "metadata": {},
   "outputs": [
    {
     "name": "stdout",
     "output_type": "stream",
     "text": [
      "{'C': 0.9, 'class_weight': None, 'kernel': 'linear', 'max_iter': -1}\n",
      "              precision    recall  f1-score   support\n",
      "\n",
      "       anger       0.68      0.68      0.68        50\n",
      "        fear       0.73      0.66      0.69        50\n",
      "         joy       0.61      0.82      0.70        50\n",
      "        love       0.80      0.72      0.76        50\n",
      "     sadness       0.66      0.80      0.72        50\n",
      "    surprise       0.94      0.60      0.73        50\n",
      "\n",
      "    accuracy                           0.71       300\n",
      "   macro avg       0.74      0.71      0.71       300\n",
      "weighted avg       0.74      0.71      0.71       300\n",
      "\n",
      "0.7133333333333334\n"
     ]
    }
   ],
   "source": [
    "from sklearn.svm import SVC\n",
    "from sklearn.feature_extraction.text import TfidfVectorizer\n",
    "from sklearn.model_selection import GridSearchCV\n",
    "from sklearn.metrics import classification_report,accuracy_score\n",
    "\n",
    "\n",
    "vectorizer = TfidfVectorizer()\n",
    "X = vectorizer.fit_transform(corpus)\n",
    "X_test = vectorizer.transform(test_data)\n",
    "\n",
    "svc = SVC()\n",
    "param_grid = {\n",
    "    'kernel':['rbf','linear','sigmoid'],\n",
    "    'C':[0.9,0.85,0.8,0.7],\n",
    "    'class_weight':['balanced',None],\n",
    "    'max_iter':[-1,700,500]\n",
    "}\n",
    "\n",
    "grid_search = GridSearchCV(estimator=svc,param_grid=param_grid,cv=5,scoring='accuracy')\n",
    "grid_search.fit(X,train_labels)\n",
    "\n",
    "best_params = (grid_search.best_params_)\n",
    "print(best_params)\n",
    "\n",
    "svc_best = grid_search.best_estimator_\n",
    "y_pred = svc_best.predict(X_test)\n",
    "\n",
    "print(classification_report(test_labels,y_pred))\n",
    "print(accuracy_score(test_labels,y_pred))"
   ]
  },
  {
   "cell_type": "code",
   "execution_count": 26,
   "metadata": {},
   "outputs": [
    {
     "name": "stdout",
     "output_type": "stream",
     "text": [
      "{'stand': 3060, 'here': 1509, 'feel': 1295, 'empty': 1069, 'class': 409, 'post': 2181, 'count': 585, 'link': 1734, 'href': 1553, 'http': 1554, 'literally': 1744, 'just': 1655, 'text': 3329, 'tychelle': 3554, 'to': 3418, 'see': 2717, 'if': 1568, 'she': 2792, 'wants': 3758, 'out': 1991, 'because': 234, 'reading': 2390, 'what': 3830, 'wrote': 3947, 'about': 3, 'my': 1895, 'social': 2948, 'life': 1722, 'made': 1792, 'me': 1817, 'so': 2944, 'pathetic': 2024, 'really': 2401, 'regretful': 2452, 'when': 3833, 'hearing': 1494, 'that': 3343, 'shinae': 2800, 'got': 1425, 'married': 1808, 'another': 83, 'man': 1803, 'oh': 1963, 'it': 1634, 'sad': 2632, 'hope': 1535, 'and': 75, 'can': 345, 'be': 226, 'couple': 588, 'in': 1585, 'real': 2394, 'they': 3364, 're': 2377, 'perfect': 2039, 'for': 1350, 'each': 992, 'other': 1986, 'believed': 249, 'was': 3769, 'true': 3519, 'love': 1776, 'devastated': 795, 'wanted': 3756, 'settle': 2766, 'down': 930, 'have': 1482, 'the': 3347, 'whole': 3851, 'kids': 1667, 'thing': 3371, 'with': 3881, 'him': 1516, 'unimportant': 3604, 'inadequate': 1586, 'very': 3691, 'low': 1782, 'already': 61, 'horrible': 1543, 'again': 42, 'personifying': 2061, 'an': 73, 'act': 17, 'were': 3824, 'not': 1934, 'cause': 367, 'of': 1955, 'their': 3349, 'progeny': 2261, 'who': 3849, 'should': 2822, 'at': 169, 'her': 1508, 'wronged': 3946, 'woman': 3887, 'feet': 1299, 'ill': 1570, 'ranted': 2364, 'being': 247, 'able': 2, 'trust': 3521, 'anybody': 88, 'hurt': 1560, 'feeling': 1296, 'rejected': 2460, 'etc': 1136, 'aching': 15, 'all': 54, 'times': 3407, 'day': 708, 'dumb': 978, 'first': 1326, 'run': 2618, 'through': 3394, 'seems': 2723, 'over': 1995, 'head': 1487, 'amp': 71, 'little': 1745, 'too': 3437, 'much': 1888, 'struggling': 3150, 'brain': 309, 'mention': 1839, 'this': 3379, 'one': 1971, 'doesn': 904, 'fake': 1259, 'im': 1573, 'more': 1873, 'scared': 2674, 'like': 1727, 'dramas': 942, 'or': 1981, 'thrillers': 3392, 'are': 122, 'actually': 25, 'capable': 350, 'happening': 1470, 'leave': 1705, 'disturbed': 891, 'groggy': 1440, 'super': 3205, 'tired': 3415, 'during': 985, 'most': 1876, 'fall': 1261, 'we': 3792, 'ended': 1078, 'up': 3636, 'staying': 3086, 'home': 1528, 'thanksgiving': 3342, 'instead': 1605, 'making': 1801, 'hour': 1547, 'trip': 3512, 'family': 1267, 'awkward': 206, 'havent': 1484, 'been': 238, 'lately': 1691, 'am': 66, 'seriously': 2758, 'depressed': 763, 'is': 1628, 'unfortunate': 3596, 'had': 1459, 'take': 3264, 'these': 3363, 'drastic': 945, 'measures': 1823, 'notice': 1938, 'as': 150, 'truly': 3520, 'loved': 1777, 'posting': 2183, 'new': 1920, 'work': 3904, 'people': 2032, 'from': 1374, 'world': 3912, 'still': 3105, 'disappointed': 841, 'though': 3382, 'thought': 3383, 'exhausted': 1184, 'emotions': 1059, 'confusion': 501, 'having': 1485, 'give': 1406, 'look': 1762, 'blank': 276, 'white': 3847, 'piece': 2089, 'paper': 2009, 'want': 3755, 'fill': 1311, 'colours': 430, 'but': 332, 'left': 1708, 'place': 2099, 'heartbroken': 1496, 'didnt': 815, 'respond': 2536, 'some': 2961, 'days': 711, 'cant': 348, 'put': 2316, 'on': 1969, 'smile': 2925, 'pretend': 2228, 'great': 1433, 'let': 1714, 'creep': 620, 'ok': 1965, 'how': 1551, 'things': 3372, 'no': 1925, 'where': 3835, 'crying': 651, 'sorry': 2987, 'myself': 1896, 'shame': 2782, 'dirty': 835, 'src': 3050, 'stop': 3115, 'shitty': 2807, 'general': 1394, 'now': 1942, 'write': 3938, 'continuously': 545, 'used': 3654, 'defective': 734, 'younger': 3982, 'yet': 3974, 'did': 813, 'sometimes': 2970, 'discouraged': 851, 'why': 3856, 'shadows': 2776, 'come': 432, 'heart': 1495, 'lonely': 1758, 'long': 1759, 'heaven': 1500, 'jesus': 1643, 'portion': 2166, 'constant': 521, 'friend': 1368, 'he': 1486, 'his': 1518, 'eye': 1229, 'sparrow': 3004, 'know': 1675, 'watches': 3782, 'do': 899, 'allow': 55, 'sit': 2870, 'cycle': 677, 'today': 3419, 'will': 3864, 'nasty': 1900, 'big': 264, 'fight': 1307, 'public': 2298, 'humiliated': 1558, 'proven': 2286, 'right': 2573, 'unstable': 3625, 'bad': 210, 'person': 2056, 'victimized': 3701, 'by': 337, 'drag': 935, 'our': 1989, 'country': 587, 'sand': 2649, 'traditionalists': 3471, 'call': 339, 'them': 3350, 'conservatives': 513, 'fear': 1289, 'honest': 1531, 'god': 1417, 'think': 3373, 'created': 614, 'years': 3970, 'ago': 46, 'stuff': 3159, 'skeletal': 2880, 'remains': 2485, 'kind': 1669, 'need': 1908, 'find': 1317, 'way': 3789, 'get': 1399, 'hopeless': 1538, 'going': 1419, 'say': 2667, 'makes': 1799, 'unloved': 3614, 'shit': 2805, 'thats': 3346, 'overly': 1998, 'dramatic': 943, 'pretty': 2230, 'saw': 2666, 'disappointment': 842, 'spirit': 3025, 'corinthians': 573, 'trying': 3529, 'sound': 2993, 'once': 1970, 'while': 3839, 'human': 1556, 'morning': 1874, 'extremely': 1227, 'physically': 2077, 'punished': 2307, 'something': 2967, 'didn': 814, 'even': 1142, 'start': 3067, 'taking': 3267, 'working': 3908, 'cope': 567, 'awful': 204, 'hospital': 1544, 'night': 1924, 'helpless': 1506, 'lot': 1773, 'almost': 58, 'every': 1148, 'does': 903, 'blog': 283, 'timely': 3406, 'miss': 1857, 'guilt': 1451, 'reacted': 2382, 'terrible': 3322, 'said': 2640, 'sake': 2643, 'saying': 2668, 'excited': 1173, 'introduced': 1619, 'library': 1720, 'environment': 1115, 'same': 2648, 'time': 3405, 'stressed': 3135, 'means': 1821, 'getting': 1401, 'holiday': 1526, 'dont': 913, 'its': 1636, 'devestated': 801, 'would': 3923, 'disservice': 877, 'feelings': 1297, 'never': 1919, 'recall': 2409, 'quite': 2334, 'worthless': 3919, 'ugly': 3561, 'melancholy': 1831, 'tonight': 3435, 'kinda': 1670, 'paint': 2008, 'door': 917, 'ive': 1638, 'needy': 1912, 'wound': 3927, 'driving': 963, 'butterflies': 334, 'teenager': 3305, 'then': 3353, 'rotten': 2606, 'week': 3806, 'after': 39, 'expecting': 1200, 'your': 3983, 'son': 2974, 'uhuru': 3562, 'persecuted': 2055, 'men': 1836, 'unwelcome': 3632, 'often': 1962, 'back': 209, 'ashamed': 151, 'done': 912, 'earlier': 996, 'sick': 2838, 'care': 354, 'puppy': 2308, 'living': 1750, 'mother': 1878, 'sentimental': 2748, 'distinctly': 883, 'remember': 2486, 'child': 395, 'celebrating': 372, 'parents': 2011, 'th': 3333, 'seemed': 2721, 'trouble': 3516, 'sleeping': 2896, 'anxiety': 85, 'causing': 370, 'suffer': 3184, 'lack': 1683, 'drive': 962, 'quickly': 2328, 'becoming': 236, 'satisfied': 2662, 'dull': 977, 'uninteresting': 3605, 'alive': 53, 'happy': 1472, 'any': 87, 'good': 1422, 'anyone': 90, 'tought': 3458, 'try': 3527, 'hard': 1473, 'girlfriend': 1404, 'sure': 3219, 'struggled': 3148, 'subpar': 3173, 'various': 3675, 'areas': 124, 'always': 65, 'next': 1922, 'relish': 2477, 'hate': 1478, 'also': 63, 'afraid': 38, 'extended': 1221, 'feels': 1298, 'knowing': 1676, 'alone': 59, 'crappy': 607, 'happen': 1468, 'studying': 3158, 'discovering': 855, 'words': 3902, 'crossed': 638, 'mind': 1849, 'portray': 2168, 'exact': 1161, 'meaning': 1820, 'missed': 1858, 'destashing': 787, 'cuts': 671, 'fabric': 1237, 'id': 1564, 'bought': 302, 'make': 1798, 'has': 1475, 'sat': 2660, 'around': 134, 'via': 3693, 'sort': 2988, 'lame': 1684, 'wasnt': 3775, 'probably': 2246, 'wouldnt': 3925, 'told': 3426, 'you': 3978, 'moment': 1865, 'only': 1974, 'master': 1810, 'weekends': 3808, 'submissive': 3171, 'bit': 269, 'disheartened': 863, 'wise': 3877, 'recently': 2414, 'unhappy': 3598, 'shoes': 2813, 'socks': 2952, 'lazy': 1696, 'car': 351, 'teacher': 3293, 'greeted': 1437, 'nice': 1923, 'miserable': 1856, 'ever': 1146, 'since': 2857, 'high': 1514, 'school': 2683, 'felt': 1301, 'better': 259, 'thursday': 3399, 'friday': 1367, 'enough': 1095, 'into': 1618, 'foggy': 1340, 'last': 1689, 'year': 3965, 'nowhere': 1943, 'near': 1905, 'closing': 420, 'type': 3555, 'could': 580, 'homesick': 1530, 'contagious': 531, 'desperately': 782, 'wanting': 3757, 'cuddle': 654, 'selfish': 2730, 'physical': 2076, 'needed': 1909, 'front': 1375, 'seat': 2706, 'pain': 2005, 'point': 2140, 'disadvantaged': 837, 'believe': 248, 'there': 3358, 'subjects': 3169, 'potential': 2186, 'communication': 454, 'sharing': 2788, 'ideas': 1566, 'common': 450, 'ground': 1442, 'language': 1686, 'situation': 2873, 'revert': 2560, 'shy': 2836, 'self': 2729, 'esteem': 1134, 'began': 240, 'contractions': 547, 'intensity': 1610, 'creature': 617, 'two': 3552, 'came': 343, 'close': 417, 'packing': 2001, 'heading': 1489, 'wondered': 3892, 'less': 1711, 'worse': 3916, 'least': 1704, 'far': 1276, 'concerned': 479, 'blue': 288, 'ache': 13, 'listless': 1741, 'useless': 3656, 'standing': 3062, 'sidelines': 2840, 'wet': 3826, 'someone': 2965, 'flowers': 1336, 'wuss': 3949, 'rely': 2481, 'certain': 376, 'add': 26, 'available': 195, 'cringe': 630, 'help': 1504, 'troubled': 3517, 'don': 911, 'disrespected': 875, 'easily': 1006, 'agitated': 45, 'indecisive': 1592, 'effing': 1029, 'hated': 1479, 'moving': 1886, 'slower': 2910, 'generally': 1395, 'lethargic': 1715, 'than': 3337, 'ride': 2568, 'trail': 3476, 'hide': 1513, 'secret': 2711, 'inside': 1601, 'away': 201, 'everyone': 1152, 'assistance': 163, 'floated': 1332, 'below': 253, 'surface': 3222, 'couldnt': 582, 'seem': 2720, 'bring': 319, 'above': 4, 'water': 3784, 'knew': 1673, 'shaking': 2779, 'many': 1807, 'reasons': 2405, 'cyst': 681, 'drama': 941, 'started': 3068, 'cold': 425, 'fast': 1280, 'drained': 939, 'whiney': 3842, 'eid': 1036, 'somewhat': 2972, 'spent': 3017, 'weeks': 3809, 'zombie': 3998, 'mode': 1862, 'numb': 1944, 'overcome': 1997, 'voice': 3728, 'telling': 3308, 'consistently': 517, 'disgusting': 862, 'huge': 1555, 'walked': 3746, 'those': 3381, 'hill': 1515, 'entire': 1109, 'maintain': 1796, 'mood': 1871, 'youre': 3984, 'seen': 2724, 'bigger': 265, 'bothered': 301, 'might': 1843, 'changed': 382, 'us': 3651, 'dismayed': 866, 'pleased': 2126, 'tells': 3309, 'taken': 3265, 'staff': 3054, 'lesson': 1712, 'seamlessly': 2700, 'jumped': 1654, 'support': 3210, 'without': 3883, 'stupid': 3163, 'guilty': 1452, 'share': 2786, 'thrown': 3397, 'financially': 1316, 'emotionally': 1058, 'fact': 1245, 'abused': 6, 'adore': 32, 'gift': 1402, 'list': 1737, 'knows': 1679, 'surprises': 3227, 'ungrateful': 3597, 'lying': 1789, 'kid': 1666, 'hell': 1502, 'stoop': 3114, 'himself': 1517, 'unreasonable': 3619, 'lie': 1721, 'towards': 3463, 'seeing': 2718, 'problems': 2250, 'stems': 3093, 'therapeutic': 3355, 'completely': 470, 'terms': 3321, 'step': 3094, 'plate': 2113, 'herself': 1510, 'ready': 2392, 'weepy': 3811, 'emotional': 1057, 'attachment': 176, 'simply': 2855, 'else': 1042, 'understand': 3582, 'logic': 1754, 'student': 3154, 'congress': 502, 'boring': 297, 'diamond': 811, 'rings': 2579, 'may': 1815, 'rant': 2363, 'burdened': 328, 'store': 3119, 'defeated': 733, 'tell': 3307, 'mom': 1864, 'crazy': 610, 'printing': 2242, 'service': 2760, 'hair': 1462, 'stickiness': 3103, 'lingering': 1733, 'go': 1414, 'sense': 2741, 'issue': 1632, 'ones': 1972, 'strong': 3142, 'deal': 715, 'become': 235, 'jaded': 1639, 'waiting': 3741, 'summer': 3198, 'moments': 1866, 've': 3677, 'resigned': 2527, 'extent': 1224, 'chapter': 385, 'st': 3051, 'cannot': 347, 'anything': 91, 'such': 3179, 'daughter': 705, 'article': 140, 'fun': 1383, 'bed': 237, 'late': 1690, 'whenever': 3834, 'tragic': 3475, 'until': 3628, 'picked': 2082, 'moved': 1883, 'czech': 682, 'republic': 2513, 'chris': 404, 'sent': 2745, 'food': 1346, 'music': 1893, 'remind': 2491, 'pull': 2300, 'reread': 2517, 'starting': 3070, 'surreal': 3230, 'reminders': 2494, 'whether': 3837, 'awesome': 203, 'workouts': 3910, 'finally': 1315, 'realise': 2395, 'effects': 1028, 'weird': 3814, 'confident': 496, 'zimmerman': 3997, 'wont': 3897, 'worried': 3913, 'nervous': 1915, 'job': 1645, 'best': 256, 'father': 1285, 'lost': 1772, 'depression': 764, 'pit': 2097, 'failure': 1253, 'criticized': 634, 'resentful': 2522, 'broke': 322, 'children': 397, 'twitter': 3551, 'vain': 3669, 'alright': 62, 'nothing': 1937, 'tv': 3544, 'fix': 1330, 'seventy': 2768, 'happened': 1469, 'classes': 410, 'teachers': 3294, 'mean': 1819, 'friends': 1370, 'cop': 566, 'terrified': 3325, 'minute': 1853, 'partner': 2015, 'view': 3706, 'obtain': 1949, 'caught': 366, 'surgeons': 3224, 'evaluating': 1141, 'area': 123, 'sterile': 3099, 'clean': 411, 'smelling': 2924, 'numerous': 1946, 'devices': 802, 'realize': 2399, 'met': 1841, 'none': 1928, 'goals': 1416, 'explain': 1209, 'embarrassed': 1048, 'describe': 768, 'painful': 2006, 'went': 3823, 'looking': 1764, 'betrayed': 258, 'disillusioned': 865, 'attend': 182, 'important': 1582, 'lives': 1749, 'blogging': 285, 'disgusted': 861, 'brush': 326, 'returning': 2553, 'spain': 3002, 'sob': 2946, 'release': 2471, 'techniques': 3302, 'using': 3659, 'expert': 1207, 'face': 1239, 'foundation': 1359, 'sephora': 2754, 'powder': 2193, 'collection': 426, 'nobody': 1926, 'cares': 357, 'gone': 1420, 'either': 1038, 'doesnt': 905, 'treat': 3496, 'sigh': 2842, 'damn': 687, 'begin': 241, 'unpleasant': 3616, 'fandom': 1270, 'turned': 3540, 'radio': 2350, 'hoping': 1541, 'lift': 1725, 'spirits': 3026, 'questioning': 2326, 'everything': 1153, 'admitting': 30, 'which': 3838, 'speak': 3006, 'online': 1973, 'drop': 965, 'lists': 1742, 'disregarded': 874, 'quit': 2333, 'screw': 2694, 'shop': 2814, 'british': 321, 'mine': 1851, 'beaten': 229, 'evil': 1159, 'rest': 2542, 'tried': 3505, 'spend': 3015, 'usually': 3661, 'offers': 1960, 'ignored': 1569, 'youd': 3979, 'together': 3425, 'motivated': 1880, 'learn': 1700, 'lessons': 1713, 'history': 1520, 'otherwise': 1988, 'doomed': 916, 'repeat': 2505, 'universe': 3608, 'thinks': 3375, 'handle': 1466, 'giving': 1409, 'suffering': 3185, 'rejection': 2461, 'shirley': 2803, 'chick': 394, 'julia': 1652, 'roberts': 2589, 'demands': 751, 'drugs': 969, 'remorseful': 2498, 'decision': 726, 'cheap': 390, 'own': 2000, 'amount': 70, 'sleep': 2895, 'choice': 399, 'zero': 3996, 'energy': 1088, 'vitamins': 3727, 'lots': 1774, 'hopes': 1540, 'tomorrow': 3431, 'suppose': 3216, 'presenting': 2221, 'practical': 2197, 'tips': 3414, 'readers': 2388, 'editors': 1021, 'spice': 3018, 'order': 1982, 'denying': 759, 'temporarily': 3313, 'wounded': 3928, 'idiot': 1567, 'yoga': 3976, 'smallest': 2920, 'responsibility': 2540, 'large': 1687, 'responsibilities': 2539, 'tickling': 3401, 'subconscious': 3166, 'hours': 1548, 'bastard': 224, 'old': 1967, 'sexual': 2771, 'demon': 752, 'returns': 2554, 'banishes': 216, 'despair': 780, 'mad': 1791, 'displays': 872, 'wild': 3861, 'exhibitionism': 1188, 'april': 118, 'part': 2012, 'hold': 1523, 'arm': 130, 'wind': 3870, 'beautiful': 231, 'pictures': 2087, 'doing': 908, 'thinking': 3374, 'half': 1463, 'term': 3320, 'sounding': 2994, 'surprisingly': 3229, 'site': 2871, 'wish': 3878, 'liked': 1728, 'mud': 1889, 'wrestling': 3936, 'rather': 2370, 'dare': 695, 'average': 196, 'band': 214, 'keep': 1658, 'strangely': 3126, 'enter': 1101, 'semipro': 2735, 'dao': 694, 'ness': 1916, 'realised': 2396, 'unwanted': 3631, 'daycare': 709, 'constantly': 522, 'isolated': 1631, 'meet': 1828, 'commit': 447, 'suicide': 3192, 'second': 2709, 'users': 3657, 'continue': 540, 'slow': 2909, 'death': 719, 'spiral': 3024, 'stated': 3077, 'discussions': 859, 'discourages': 852, 'use': 3653, 'reference': 2431, 'progress': 2264, 'pics': 2085, 'wear': 3796, 'sleeve': 2897, 'arent': 127, 'theyre': 3366, 'finished': 1323, 'foolish': 1348, 'expectations': 1198, 'story': 3123, 'found': 1358, 'stayed': 3085, 'letting': 1718, 'shared': 2787, 'previously': 2234, 'program': 2262, 'minor': 1852, 'disagreement': 838, 'before': 239, 'theres': 3362, 'itll': 1635, 'pass': 2018, 'happens': 1471, 'regret': 2451, 'baby': 208, 'normal': 1930, 'attention': 184, 'given': 1407, 'well': 3820, 'forward': 1357, 'joy': 1650, 'heat': 1499, 'wave': 3785, 'live': 1746, 'hot': 1546, 'middle': 1842, 'east': 1007, 'shits': 2806, 'early': 998, 'sex': 2770, 'husband': 1562, 'gloomy': 1413, 'blah': 275, 'wine': 3873, 'tartandheathered': 3278, 'loneliness': 1757, 'discontent': 850, 'onto': 1975, 'economy': 1016, 'recession': 2416, 'stressful': 3136, 'money': 1868, 'unemployment': 3587, 'caused': 368, 'topic': 3443, 'divorce': 895, 'expressed': 1216, 'blessed': 278, 'boy': 305, 'value': 3671, 'perpetually': 2054, 'valuable': 3670, 'skinny': 2886, 'thin': 3370, 'thinner': 3376, 'disappear': 839, 'past': 2023, 'months': 1870, 'few': 1304, 'short': 2817, 'including': 1589, 'grateful': 1431, 'writers': 3940, 'drecky': 954, 'pay': 2026, 'cover': 595, 'wall': 3748, 'needs': 1911, 'pop': 2160, 'color': 428, 'secretary': 2712, 'called': 340, 'dublin': 973, 'whim': 3841, 'surprise': 3225, 'permanent': 2052, 'chance': 379, 'bathroom': 225, 'per': 2034, 'books': 295, 'provided': 2288, 'running': 2621, 'fearful': 1290, 'usual': 3660, 'progression': 2265, 'sinus': 2865, 'infection': 1594, 'walking': 3747, 'pneumonia': 2136, 'pounding': 2190, 'www': 3950, 'especially': 1127, 'lower': 1783, 'guess': 1448, 'isnt': 1630, 'exciting': 1175, 'meant': 1822, 'strangers': 3128, 'turn': 3539, 'funny': 1384, 'roundly': 2609, 'poor': 2159, 'tongue': 3434, 'ravaged': 2373, 'challenge': 378, 'taste': 3282, 'sensation': 2740, 'passionate': 2021, 'weekend': 3807, 'number': 1945, 'definition': 741, 'engaging': 1089, 'evening': 1143, 'reason': 2404, 'achieved': 14, 'unsuccessful': 3626, 'recommend': 2422, 'strongly': 3145, 'interested': 1613, 'fashioned': 1279, 'diverse': 892, 'nap': 1899, 'afternoon': 40, 'woke': 3886, 'maybe': 1816, 'sign': 2845, 'steve': 3100, 'accident': 9, 'listening': 1740, 'listed': 1738, 'thatd': 3344, 'admit': 29, 'cubicle': 653, 'unless': 3611, 'guy': 1455, 'hasnt': 1476, 'texted': 3330, 'calling': 341, 'efforts': 1031, 'contrary': 549, 'episode': 1117, 'blind': 280, 'certainly': 377, 'race': 2340, 'against': 43, 'typical': 3557, 'win': 3869, 'muscles': 1891, 'break': 312, 'sweat': 3239, 'focus': 1338, 'upset': 3644, 'loss': 1771, 'material': 1811, 'possession': 2177, 'possess': 2175, 'condemned': 487, 'tempted': 3314, 'pleasures': 2128, 'deprived': 765, 'opportunity': 1978, 'victoria': 3702, 'rubies': 2614, 'mentally': 1838, 'ridiculous': 2570, 'discovered': 854, 'smears': 2922, 'medicine': 1827, 'annoying': 82, 'unliked': 3613, 'roster': 2605, 'looks': 1765, 'characters': 387, 'members': 1833, 'risk': 2582, 'albeit': 51, 'small': 2918, 'ebayed': 1015, 'toon': 3441, 'turning': 3541, 'guild': 1450, 'belonging': 251, 'insist': 1602, 'took': 3438, 'college': 427, 'culprit': 655, 'permanently': 2053, 'damaged': 686, 'haven': 1483, 'side': 2839, 'hes': 1511, 'talking': 3273, 'book': 294, 'pity': 2098, 'justice': 1656, 'uncomfortable': 3576, 'except': 1169, 'pulled': 2301, 'doorknob': 918, 'fairly': 1255, 'considerate': 514, 'possible': 2179, 'others': 1987, 'soul': 2990, 'ego': 1032, 'society': 2951, 'critical': 632, 'soap': 2945, 'natural': 1901, 'squeeze': 3047, 'five': 1329, 'memories': 1834, 'promising': 2273, 'elses': 1043, 'pub': 2297, 'morose': 1875, 'end': 1077, 'popular': 2162, 'la': 1681, 'trepidation': 3501, 'statistics': 3081, 'ian': 1563, 'date': 701, 'final': 1314, 'faking': 1260, 'rupture': 2623, 'reader': 2387, 'writer': 3939, 'relationship': 2465, 'won': 3890, 'stores': 3121, 'internet': 1616, 'must': 1894, 'lets': 1716, 'perhaps': 2048, 'reaction': 2384, 'tone': 3433, 'rare': 2366, 'cases': 361, 'figure': 1309, 'loves': 1780, 'matter': 1813, 'goes': 1418, 'holding': 1524, 'obviously': 1950, 'future': 1386, 'pains': 2007, 'black': 274, 'red': 2425, 'off': 1956, 'deeply': 730, 'condemn': 486, 'mothers': 1879, 'finding': 1318, 'wtf': 3948, 'kiss': 1671, 'stranger': 3127, 'aspect': 157, 'appropriately': 115, 'shamed': 2783, 'incredibly': 1591, 'open': 1976, 'website': 3802, 'feature': 1292, 'expected': 1199, 'restart': 2543, 'gallery': 1388, 'gorgeous': 1424, 'totally': 3453, 'cross': 637, 'finish': 1322, 'line': 1731, 'tend': 3316, 'discomforting': 849, 'emotion': 1056, 'plays': 2121, 'show': 2828, 'asking': 155, 'ryan': 2627, 'cut': 669, 'body': 291, 'reminds': 2496, 'despite': 783, 'ra': 2338, 'tries': 3506, 'finds': 1319, 'sexually': 2772, 'attractive': 188, 'atleast': 173, 'concerns': 481, 'jens': 1642, 'declined': 727, 'uses': 3658, 'crutches': 648, 'doctor': 901, 'suggested': 3191, 'occupational': 1952, 'therapy': 3357, 'contact': 530, 'local': 1752, 'therapist': 3356, 'continued': 541, 'aroused': 135, 'anymore': 89, 'reflects': 2437, 'along': 60, 'lines': 1732, 'dishes': 864, 'anger': 77, 'wed': 3803, 'basically': 223, 'companies': 457, 'success': 3176, 'decided': 724, 'beauty': 232, 'products': 2256, 'pagetitle': 2004, 'superman': 3208, 'sheet': 2794, 'difference': 819, 'videos': 3704, 'estrangement': 1135, 'between': 260, 'playing': 2120, 'unlike': 3612, 'cry': 650, 'bike': 266, 'rack': 2344, 'shoe': 2811, 'fucking': 1379, 'desperate': 781, 'hello': 1503, 'fellow': 1300, 'uncle': 3572, 'pulp': 2303, 'barely': 218, 'distance': 880, 'relationships': 2466, 'fuck': 1377, 'uncharacteristically': 3571, 'name': 1898, 'espouse': 1128, 'stuck': 3153, 'proved': 2285, 'reminder': 2493, 'habits': 1458, 'beyond': 261, 'plagued': 2100, 'personally': 2060, 'invest': 1621, 'friendships': 1372, 'perceive': 2035, 'returned': 2552, 'positively': 2174, 'window': 3871, 'state': 3076, 'clearly': 414, 'adomen': 31, 'contract': 546, 'everytime': 1154, 'cough': 579, 'exercise': 1181, 'haha': 1461, 'comparison': 463, 'bloggers': 284, 'proud': 2283, 'weight': 3813, 'sadness': 2637, 'devour': 806, 'beginning': 242, 'touch': 3454, 'position': 2171, 'seated': 2707, 'kept': 1661, 'drinking': 960, 'consciously': 510, 'sees': 2725, 'hits': 1522, 'exist': 1192, 'isn': 1629, 'somehow': 2963, 'holds': 1525, 'puts': 2317, 'scream': 2690, 'carry': 359, 'photography': 2072, 'worked': 3905, 'system': 3257, 'persuade': 2063, 'remain': 2483, 'retired': 2548, 'wedding': 3804, 'photographer': 2071, 'repeatedly': 2506, 'dream': 949, 'crushing': 647, 'awake': 198, 'thank': 3338, 'utterly': 3664, 'trigger': 3507, 'points': 2141, 'flattened': 1331, 'drastically': 946, 'swirling': 3249, 'acceptable': 7, 'glad': 1410, 'thaliad': 3336, 'celebrate': 371, 'colors': 429, 'dunno': 983, 'pleasant': 2122, 'sounds': 2995, 'include': 1588, 'idea': 1565, 'radiant': 2346, 'vibrant': 3695, 'enthusiastic': 1108, 'age': 44, 'supposed': 3217, 'stay': 3084, 'lively': 1748, 'room': 2599, 'explorer': 1213, 'enuff': 1113, 'offer': 1959, 'move': 1882, 'stairs': 3057, 'content': 535, 'seconds': 2710, 'pressure': 2224, 'upon': 3641, 'useful': 3655, 'conor': 507, 'sincere': 2858, 'trusted': 3522, 'mike': 1844, 'personal': 2057, 'information': 1596, 'delighted': 748, 'rewarded': 2563, 'pragmatic': 2198, 'involved': 1624, 'regular': 2455, 'gain': 1387, 'rational': 2371, 'responses': 2538, 'enquiries': 1096, 'particularly': 2014, 'shadow': 2775, 'revelation': 2558, 'reassured': 2406, 'wouldn': 3924, 'hear': 1492, 'cool': 562, 'several': 2769, 'fab': 1236, 'cried': 625, 'convinced': 558, 'plan': 2102, 'purpose': 2311, 'grounded': 1443, 'reality': 2398, 'growth': 1446, 'tampons': 3275, 'period': 2049, 'cramps': 604, 'dad': 683, 'carefree': 356, 'apply': 107, 'learned': 1701, 'thus': 3400, 'mission': 1859, 'privileged': 2245, 'read': 2386, 'stories': 3122, 'received': 2411, 'enjoyed': 1092, 'crafting': 601, 'zealand': 3994, 'women': 3889, 'screenwriters': 2693, 'films': 1313, 'refer': 2430, 'weak': 3793, 'exactly': 1162, 'reflect': 2435, 'accomplished': 10, 'dun': 982, 'forgive': 1355, 'team': 3295, 'losing': 1770, 'trafford': 3473, 'stamford': 3059, 'range': 2361, 'russell': 2625, 'crowe': 643, 'robin': 2590, 'brave': 311, 'event': 1144, 'welcomed': 3817, 'evolve': 1160, 'dress': 955, 'comfortable': 437, 'wearing': 3800, 'skirts': 2888, 'distant': 881, 'month': 1869, 'productive': 2255, 'organized': 1984, 'free': 1364, 'lucky': 1785, 'four': 1360, 'fine': 1320, 'arrived': 137, 'gym': 1457, 'sunshine': 3204, 'although': 64, 'dorky': 922, 'unfit': 3592, 'rotund': 2607, 'sloth': 2908, 'fit': 1327, 'fierce': 1306, 'anyway': 92, 'push': 2314, 'embrace': 1049, 'encourage': 1075, 'enriched': 1098, 'entertained': 1104, 'eager': 993, 'dazzling': 713, 'whilst': 3840, 'phone': 2069, 'mum': 1890, 'obligation': 1947, 'duty': 987, 'expectation': 1197, 'trusting': 3523, 'intuition': 1620, 'guide': 1449, 'actual': 24, 'direction': 831, 'valued': 3672, 'supported': 3211, 'deep': 729, 'rooted': 2603, 'memory': 1835, 'enjoying': 1093, 'sucking': 3181, 'smoke': 2930, 'lungs': 1788, 'pleasantness': 2124, 'illusion': 1572, 'attempt': 180, 'respected': 2534, 'lbs': 1697, 'virtuous': 3718, 'worth': 3918, 'delicious': 747, 'artisan': 143, 'return': 2551, 'please': 2125, 'email': 1046, 'dinner': 828, 'coffee': 424, 'positive': 2173, 'desp': 779, 'joyful': 1651, 'negative': 1913, 'thoughts': 3385, 'effect': 1027, 'cute': 670, 'bold': 292, 'terrific': 3324, 'managed': 1805, 'solo': 2957, 'follower': 1343, 'queer': 2322, 'performing': 2046, 'vital': 3726, 'full': 1381, 'passed': 2019, 'boards': 289, 'determined': 794, 'hopeful': 1537, 'truth': 3525, 'wendy': 3822, 'brown': 325, 'generous': 1396, 'dog': 906, 'em': 1045, 'animals': 80, 'eyes': 1234, 'spirituality': 3028, 'nature': 1903, 'enthusiasm': 1107, 'keeps': 1660, 'strikes': 3138, 'fancy': 1269, 'fantastic': 1274, 'beast': 228, 'dramatically': 944, 'lit': 1743, 'transformations': 3481, 'exited': 1194, 'trimester': 3509, 'emerged': 1050, 'relaxed': 2469, 'possibly': 2180, 'educate': 1022, 'exams': 1167, 'yearly': 3966, 'check': 392, 'ups': 3643, 'save': 2665, 'plunge': 2133, 'depths': 767, 'invigorated': 1622, 'potted': 2188, 'grown': 1445, 'cutting': 672, 'cuttings': 673, 'guys': 1456, 'clever': 415, 'however': 1552, 'unknown': 3610, 'tinge': 3410, 'thereby': 3359, 'produce': 2253, 'corners': 574, 'assured': 168, 'impossible': 1583, 'poked': 2143, 'progressively': 2267, 'hit': 1521, 'wire': 3876, 'festive': 1303, 'fire': 1325, 'imagination': 1575, 'radiator': 2348, 'pleasantly': 2123, 'mellow': 1832, 'regardless': 2447, 'phrases': 2075, 'sentences': 2747, 'themselves': 3352, 'wonderful': 3893, 'watch': 3778, 'girls': 1405, 'tolerating': 3427, 'paying': 2027, 'stages': 3056, 'sheer': 2793, 'terror': 3326, 'preform': 2207, 'poems': 2138, 'honestly': 1532, 'amazing': 68, 'breath': 314, 'thankful': 3340, 'dwelling': 989, 'boyfriend': 306, 'crowded': 642, 'growing': 1444, 'bother': 300, 'doubt': 928, 'willing': 3866, 'wrong': 3945, 'fabulous': 1238, 'bag': 212, 'smart': 2921, 'easier': 1005, 'soup': 2996, 'divine': 893, 'gives': 1408, 'table': 3260, 'talented': 3269, 'teeth': 3306, 'pills': 2092, 'showered': 2831, 'eaten': 1011, 'breakfast': 313, 'varsities': 3676, 'muse': 1892, 'songs': 2976, 'christmas': 406, 'trees': 3500, 'spurring': 3043, 'question': 2323, 'edge': 1019, 'bringing': 320, 'dharma': 808, 'necessary': 1907, 'schools': 2684, 'shots': 2821, 'directing': 830, 'facebook': 1240, 'babies': 207, 'squirts': 3048, 'forever': 1352, 'set': 2762, 'wax': 3788, 'draw': 947, 'unibrow': 3602, 'rid': 2566, 'spare': 3003, 'creeping': 622, 'toward': 3462, 'eyelid': 1232, 'green': 1436, 'tea': 3291, 'teapot': 3296, 'tomato': 3428, 'sandwich': 2651, 'pretzel': 2232, 'donut': 915, 'img': 1577, 'breeze': 317, 'degrees': 744, 'outside': 1994, 'easy': 1008, 'yummy': 3990, 'sandwiches': 2652, 'faithful': 1257, 'viewing': 3708, 'darkness': 697, 'dread': 948, 'overwhelmed': 1999, 'writin': 3942, 'journal': 1648, 'austen': 191, 'novel': 1941, 'mr': 1887, 'computer': 475, 'elegant': 1040, 'round': 2608, 'lose': 1768, 'precious': 2203, 'powerful': 2194, 'special': 3008, 'walk': 3745, 'gut': 1454, 'genuinely': 1398, 'successful': 3177, 'further': 1385, 'education': 1025, 'course': 591, 'glamourous': 1411, 'naked': 1897, 'rampant': 2359, 'style': 3164, 'trinity': 3511, 'easygoing': 1009, 'exhaustion': 1186, 'writing': 3943, 'exceptionally': 1170, 'smug': 2933, 'cos': 575, 'lovely': 1778, 'plans': 2108, 'homes': 1529, 'grew': 1438, 'leadership': 1698, 'inspired': 1603, 'runner': 2619, 'results': 2546, 'ways': 3791, 'creative': 615, 'worker': 3906, 'cousins': 594, 'oddly': 1954, 'saturday': 2663, 'behind': 246, 'aunt': 190, 'uncles': 3574, 'cousin': 593, 'under': 3578, 'ecstatic': 1017, 'smirking': 2928, 'different': 821, 'express': 1215, 'appreciative': 111, 'coming': 441, 'gave': 1393, 'grasp': 1430, 'sensed': 2742, 'frankly': 1362, 'rude': 2615, 'card': 352, 'cards': 353, 'serving': 2761, 'keeping': 1659, 'committing': 449, 'casual': 363, 'conversation': 554, 'gathering': 1392, 'transported': 3486, 'dark': 696, 'spot': 3038, 'posts': 2184, 'comments': 446, 'honored': 1533, 'similarities': 2851, 'contented': 536, 'sadhana': 2635, 'fulfilled': 1380, 'feminist': 1302, 'issues': 1633, 'periods': 2050, 'target': 3277, 'experience': 1202, 'feedback': 1293, 'constructively': 525, 'both': 299, 'within': 3882, 'studies': 3156, 'crotch': 641, 'taylor': 3288, 'swift': 3244, 'song': 2975, 'represent': 2511, 'fans': 1273, 'entirely': 1110, 'throw': 3396, 'spring': 3041, 'contribute': 550, 'causes': 369, 'grief': 1439, 'slam': 2892, 'boat': 290, 'denmark': 756, 'worry': 3915, 'strongest': 3144, 'connection': 505, 'thrilled': 3391, 'presence': 2217, 'peace': 2028, 'sincerity': 2859, 'argument': 129, 'thackerey': 3334, 'allowing': 57, 'play': 2117, 'soil': 2955, 'till': 3404, 'action': 18, 'creed': 619, 'friendly': 1369, 'relations': 2464, 'artistic': 145, 'artwork': 147, 'optimistic': 1980, 'ingredients': 1597, 'potentially': 2187, 'bouncy': 303, 'appts': 117, 'butt': 333, 'gracious': 1428, 'perception': 2036, 'keen': 1657, 'badly': 211, 'ability': 1, 'exhilarated': 1190, 'chosen': 403, 'slicing': 2899, 'creamy': 612, 'imagine': 1576, 'mouth': 1881, 'emergence': 1051, 'worthwhile': 3920, 'uplifted': 3638, 'association': 165, 'street': 3131, 'shred': 2834, 'escape': 1125, 'tears': 3298, 'sweet': 3241, 'sister': 2868, 'dunstable': 984, 'field': 1305, 'watching': 3783, 'preposterous': 2215, 'slopes': 2906, 'trialling': 3502, 'outgoing': 1992, 'pokes': 2144, 'rod': 2592, 'lived': 1747, 'process': 2252, 'suitcase': 3193, 'crossing': 639, 'explode': 1212, 'pressurized': 2227, 'splendid': 3031, 'tiggers': 3402, 'personality': 2058, 'perfection': 2040, 'largely': 1688, 'resolved': 2529, 'itself': 1637, 'designer': 775, 'box': 304, 'trimmings': 3510, 'comes': 435, 'adventure': 34, 'ton': 3432, 'photo': 2070, 'wasn': 3774, 'rich': 2565, 'title': 3416, 'wiz': 3885, 'thaim': 3335, 'energetic': 1083, 'socially': 2950, 'accepted': 8, 'lip': 1735, 'curl': 662, 'amused': 72, 'minutes': 1854, 'trainer': 3477, 'vibration': 3697, 'test': 3327, 'programs': 2263, 'supremely': 3218, 'bars': 220, 'smell': 2923, 'fragrance': 1361, 'fail': 1250, 'providing': 2289, 'girl': 1403, 'zenos': 3995, 'mentioned': 1840, 'canvas': 349, 'calm': 342, 'focused': 1339, 'laughed': 1694, 'closed': 418, 'doors': 919, 'conclusions': 484, 'rat': 2368, 'serve': 2759, 'consuming': 529, 'charmed': 388, 'dylan': 991, 'whatever': 3831, 'planning': 2107, 'stripped': 3140, 'blessings': 279, 'pronounced': 2276, 'realized': 2400, 'faithfulness': 1258, 'scene': 2676, 'career': 355, 'choices': 400, 'video': 3703, 'talk': 3271, 'behavior': 244, 'contracts': 548, 'reinforcement': 2458, 'reframing': 2440, 'activity': 23, 'diminishing': 826, 'dissolving': 879, 'deferring': 736, 'honoured': 1534, 'appeared': 102, 'xbla': 3952, 'sony': 2977, 'reiterate': 2459, 'clear': 413, 'despondent': 784, 'questioned': 2325, 'wondering': 3895, 'adventurous': 35, 'definitely': 740, 'visit': 3721, 'swamp': 3236, 'enjoy': 1091, 'cypress': 680, 'wildlife': 3863, 'truthful': 3526, 'reach': 2378, 'ultimate': 3563, 'goal': 1415, 'healthy': 1491, 'height': 1501, 'noticed': 1939, 'strategy': 3129, 'historical': 1519, 'study': 3157, 'subject': 3168, 'superior': 3207, 'stronger': 3143, 'curiosity': 660, 'killing': 1668, 'encouraging': 1076, 'craving': 609, 'rustie': 2626, 'dean': 717, 'garden': 1391, 'spending': 3016, 'celebrations': 373, 'house': 1549, 'plants': 2111, 'handful': 1465, 'remaining': 2484, 'sets': 2764, 'asked': 154, 'relocating': 2478, 'droves': 968, 'security': 2716, 'relieving': 2475, 'quiet': 2329, 'comprehend': 474, 'rigorous': 2576, 'experiments': 1206, 'theories': 3354, 'scores': 2688, 'tracking': 3469, 'terribly': 3323, 'tranquil': 3479, 'exspress': 1219, 'appriciation': 113, 'vomity': 3732, 'shocked': 2810, 'jealousy': 1641, 'soon': 2978, 'ran': 2360, 'miles': 1847, 'custom': 667, 'suspect': 3234, 'professional': 2257, 'pressures': 2226, 'saddle': 2634, 'expression': 1218, 'became': 233, 'total': 3452, 'raging': 2353, 'bitch': 270, 'angry': 79, 'cranky': 605, 'restless': 2544, 'beloved': 252, 'season': 2703, 'seasons': 2705, 'emanating': 1047, 'reaching': 2381, 'probing': 2247, 'tip': 3413, 'sam': 2647, 'drove': 967, 'aware': 199, 'ask': 153, 'knock': 1674, 'darlings': 699, 'dr': 933, 'leg': 1709, 'yours': 3985, 'wrap': 3933, 'arms': 132, 'safe': 2638, 'personalized': 2059, 'appreciate': 108, 'sell': 2732, 'portland': 2167, 'land': 1685, 'struggle': 3147, 'whats': 3832, 'learns': 1703, 'communicates': 453, 'differently': 822, 'figuring': 1310, 'devoted': 805, 'complacent': 467, 'purchase': 2309, 'supporting': 3213, 'truck': 3518, 'chest': 393, 'breathe': 315, 'survive': 3233, 'develop': 797, 'deteriorate': 792, 'art': 139, 'moral': 1872, 'ethical': 1137, 'views': 3709, 'cupcakes': 658, 'velvet': 3682, 'complaining': 468, 'belly': 250, 'triumphant': 3514, 'reached': 2379, 'conclusion': 483, 'likely': 1729, 'unencumberedness': 3588, 'comment': 444, 'visited': 3722, 'appealing': 100, 'spinning': 3023, 'activities': 22, 'demos': 755, 'talks': 3274, 'exhibitions': 1189, 'conversations': 555, 'fair': 1254, 'communal': 451, 'exchange': 1172, 'vendor': 3683, 'send': 2737, 'church': 407, 'warning': 3766, 'sending': 2738, 'disciples': 847, 'releases': 2472, 'diary': 812, 'trap': 3487, 'computers': 476, 'pour': 2192, 'extensions': 1223, 'hopelessly': 1539, 'romantic': 2596, 'creativity': 616, 'prone': 2275, 'stereotypical': 3098, 'artist': 144, 'salt': 2646, 'dreamed': 950, 'tugs': 3534, 'lips': 1736, 'subaru': 3165, 'stops': 3118, 'innocent': 1598, 'presented': 2220, 'begins': 243, 'young': 3981, 'kicks': 1665, 'ass': 159, 'core': 572, 'lyrics': 1790, 'starter': 3069, 'allowed': 56, 'interact': 1611, 'specifically': 3010, 'plight': 2130, 'print': 2241, 'choose': 401, 'enraged': 1097, 'naturally': 1902, 'fade': 1248, 'starts': 3072, 'droop': 964, 'relieved': 2474, 'psychopathology': 2295, 'manage': 1804, 'shower': 2830, 'headed': 1488, 'loop': 1766, 'club': 422, 'prank': 2199, 'continually': 539, 'legions': 1710, 'supporters': 3212, 'established': 1133, 'digital': 824, 'shopping': 2815, 'twice': 3548, 'brand': 310, 'influence': 1595, 'seasonal': 2704, 'active': 20, 'poking': 2145, 'rain': 2354, 'squeal': 3046, 'squishing': 3049, 'toes': 3424, 'takes': 3266, 'apologizes': 97, 'control': 551, 'thirty': 3378, 'putting': 2318, 'empowered': 1066, 'changes': 383, 'energized': 1087, 'breathing': 316, 'fully': 1382, 'extra': 1226, 'effort': 1030, 'overall': 1996, 'wifi': 3859, 'fitness': 1328, 'facilities': 1243, 'quality': 2321, 'shake': 2777, 'warfighter': 3760, 'nor': 1929, 'conscious': 509, 'community': 456, 'unheard': 3601, 'weather': 3801, 'toddler': 3421, 'possessing': 2176, 'winter': 3874, 'polar': 2146, 'snow': 2942, 'shot': 2820, 'screamed': 2691, 'loud': 1775, 'die': 816, 'seldom': 2727, 'birthday': 268, 'agree': 47, 'blowing': 287, 'gets': 1400, 'ears': 1001, 'reaches': 2380, 'crap': 606, 'laugh': 1693, 'receive': 2410, 'farm': 1277, 'everyday': 1151, 'confidence': 495, 'across': 16, 'appreciated': 109, 'makeup': 1800, 'apart': 94, 'eyeliner': 1233, 'eyelash': 1231, 'curler': 664, 'playful': 2119, 'join': 1646, 'journey': 1649, 'word': 3901, 'suffocated': 3187, 'exhibit': 1187, 'tasty': 3285, 'goodness': 1423, 'santa': 2656, 'cruz': 649, 'unseen': 3622, 'pot': 2185, 'swear': 3238, 'town': 3465, 'university': 3609, 'california': 338, 'renowned': 2502, 'dukes': 976, 'watcher': 3780, 'change': 381, 'talked': 3272, 'shes': 2797, 'finishing': 1324, 'apron': 119, 'sisters': 2869, 'regard': 2445, 'educating': 1024, 'assume': 167, 'visitor': 3724, 'wally': 3750, 'respect': 2533, 'supermarket': 3209, 'tomatoes': 3429, 'wanna': 3754, 'three': 3389, 'devastating': 796, 'space': 3000, 'dumping': 980, 'scoffing': 2687, 'athletics': 171, 'smaller': 2919, 'rescue': 2518, 'party': 2017, 'casting': 362, 'director': 834, 'wonderfully': 3894, 'youthful': 3988, 'traffic': 3472, 'recognition': 2419, 'dam': 685, 'hearts': 1498, 'minds': 1850, 'thanks': 3341, 'facilitating': 1242, 'welcoming': 3818, 'supportive': 3214, 'horny': 1542, 'thigh': 3368, 'loving': 1781, 'sweaty': 3240, 'dance': 689, 'rehearsals': 2456, 'exceptions': 1171, 'longing': 1761, 'leaves': 1706, 'tender': 3317, 'loyal': 1784, 'mild': 1845, 'remove': 2501, 'excel': 1168, 'admired': 28, 'earth': 1002, 'strutting': 3151, 'road': 2586, 'older': 1968, 'ya': 3958, 'surprised': 3226, 'kisses': 1672, 'planted': 2110, 'thighs': 3369, 'buy': 336, 'consumers': 528, 'compassionate': 465, 'accustomed': 12, 'whinging': 3843, 'temperature': 3310, 'ridiculously': 2571, 'desire': 776, 'forgetting': 1354, 'magic': 1793, 'audience': 189, 'vendors': 3684, 'platform': 2114, 'distribution': 887, 'case': 360, 'dying': 990, 'refreshed': 2442, 'afterwards': 41, 'gentle': 1397, 'straight': 3124, 'rugby': 2616, 'prep': 2212, 'caring': 358, 'chances': 380, 'broken': 323, 'bitter': 273, 'cynical': 678, 'ur': 3648, 'noticing': 1940, 'expensive': 1201, 'profit': 2260, 'um': 3564, 'sympathetic': 3253, 'suggest': 3190, 'listen': 1739, 'nostalgic': 1933, 'essence': 1130, 'business': 330, 'consignment': 516, 'hand': 1464, 'shops': 2816, 'fond': 1345, 'tightly': 3403, 'unusually': 3630, 'adoring': 33, 'stood': 3113, 'sukkah': 3195, 'sunlight': 3201, 'woven': 3929, 'schach': 2678, 'roof': 2598, 'walls': 3749, 'relax': 2468, 'roomates': 2600, 'shermin': 2796, 'slutty': 2916, 'major': 1797, 'orgasm': 1985, 'moves': 1884, 'looked': 1763, 'quilts': 2331, 'display': 871, 'non': 1927, 'wearers': 3797, 'ourselves': 1990, 'knowledge': 1677, 'topics': 3444, 'auster': 192, 'vertigo': 3690, 'sang': 2654, 'meeting': 1829, 'spoilers': 3034, 'wife': 3858, 'angel': 76, 'typing': 3558, 'exicting': 1191, 'disney': 867, 'vacation': 3667, 'dogs': 907, 'page': 2002, 'signals': 2846, 'provide': 2287, 'mock': 1861, 'draft': 934, 'emphasise': 1062, 'speculation': 3011, 'educated': 1023, 'volunteer': 3729, 'organization': 1983, 'rations': 2372, 'families': 1266, 'teases': 3299, 'ryeowook': 2629, 'touches': 3456, 'spine': 3022, 'warm': 3761, 'ear': 994, 'urge': 3649, 'create': 613, 'companion': 458, 'disappoint': 840, 'miracles': 1855, 'reflection': 2436, 'comfort': 436, 'washing': 3771, 'oil': 1964, 'residue': 2526, 'tint': 3412, 'blinded': 281, 'torn': 3447, 'essential': 1131, 'puzzle': 2319, 'scabbed': 2670, 'raw': 2375, 'unhealed': 3599, 'underneath': 3580, 'complete': 469, 'loser': 1769, 'known': 1678, 'affectionate': 36, 'wood': 3898, 'works': 3911, 'comings': 442, 'scar': 2672, 'covered': 596, 'beating': 230, 'rhythm': 2564, 'delicate': 746, 'fingers': 1321, 'searching': 2702, 'beneath': 254, 'sacrifice': 2631, 'answer': 84, 'understanding': 3583, 'differences': 820, 'disabilities': 836, 'asleep': 156, 'amazingly': 69, 'promotion': 2274, 'greater': 1434, 'developed': 798, 'pie': 2088, 'confess': 493, 'hat': 1477, 'grandmother': 1429, 'key': 1662, 'treasured': 3495, 'ds': 972, 'rd': 2376, 'dd': 714, 'preschool': 2216, 'forgiving': 1356, 'frustrated': 1376, 'follow': 1342, 'everywhere': 1155, 'naughty': 1904, 'permanence': 2051, 'keys': 1663, 'comedies': 434, 'woody': 3900, 'jim': 1644, 'earl': 995, 'wilder': 3862, 'polish': 2150, 'entry': 1112, 'recipes': 2417, 'couldn': 581, 'netflix': 1917, 'army': 133, 'denounced': 757, 'recent': 2413, 'price': 2235, 'jump': 1653, 'bunch': 327, 'enable': 1070, 'mistake': 1860, 'shatter': 2790, 'crystal': 652, 'flower': 1335, 'slipped': 2904, 'roslin': 2604, 'reaffirmed': 2393, 'importance': 1581, 'learning': 1702, 'okay': 1966, 'yourself': 3986, 'photos': 2073, 'costumes': 577, 'fashion': 1278, 'costume': 576, 'attempting': 181, 'smother': 2932, 'blanket': 277, 'pressed': 2222, 'smiled': 2926, 'dads': 684, 'alice': 52, 'watched': 3779, 'extremly': 1228, 'vow': 3734, 'select': 2728, 'lol': 1756, 'private': 2244, 'appease': 103, 'appetite': 104, 'unusual': 3629, 'asset': 162, 'bands': 215, 'record': 2423, 'level': 1719, 'hardcore': 1474, 'desserts': 786, 'suits': 3194, 'customers': 668, 'thoughtful': 3384, 'craisins': 602, 'worthy': 3921, 'note': 1935, 'sing': 2860, 'mass': 1809, 'image': 1574, 'interesting': 1614, 'yes': 3972, 'sunrise': 3202, 'snaps': 2936, 'soft': 2954, 'comfy': 440, 'disturb': 890, 'traditional': 3470, 'holidays': 1527, 'based': 221, 'pregnancy': 2209, 'scheduling': 2680, 'top': 3442, 'desires': 777, 'shove': 2827, 'tops': 3446, 'reshaped': 2524, 'workout': 3909, 'slightly': 2902, 'upper': 3642, 'trips': 3513, 'weismans': 3815, 'pick': 2081, 'series': 2756, 'dvd': 988, 'walmart': 3751, 'values': 3673, 'sundays': 3200, 'consumer': 527, 'slowly': 2911, 'peoples': 2033, 'standards': 3061, 'present': 2218, 'disoriented': 869, 'professors': 2258, 'students': 3155, 'prepared': 2213, 'treachery': 3493, 'unfolds': 3595, 'thebalm': 3348, 'tude': 3532, 'eating': 1014, 'fresh': 1366, 'figs': 1308, 'prettier': 2229, 'dried': 958, 'uploading': 3640, 'lovers': 1779, 'stimulating': 3107, 'dessert': 785, 'irritated': 1627, 'blocked': 282, 'quiltcon': 2330, 'brought': 324, 'pushed': 2315, 'aside': 152, 'pursue': 2312, 'taiwan': 3263, 'depending': 762, 'devised': 803, 'esp': 1126, 'bank': 217, 'discussing': 857, 'copyright': 571, 'violations': 3713, 'leaving': 1707, 'status': 3083, 'quo': 2336, 'crumble': 645, 'progressive': 2266, 'longer': 1760, 'ryder': 2628, 'struggles': 3149, 'friendship': 1371, 'twas': 3545, 'clock': 416, 'racing': 2342, 'steak': 3089, 'reminded': 2492, 'underwears': 3585, 'edgy': 1020, 'reserved': 2523, 'loads': 1751, 'swings': 3248, 'eh': 1034, 'mommy': 1867, 'absolutely': 5, 'cup': 657, 'warn': 3765, 'crises': 631, 'facing': 1244, 'helping': 1505, 'current': 665, 'skin': 2884, 'vibrates': 3696, 'stomach': 3111, 'forget': 1353, 'percolated': 2038, 'synonym': 3256, 'fantasy': 1275, 'remote': 2499, 'preferably': 2206, 'beach': 227, 'sunset': 3203, 'sitting': 2872, 'connections': 506, 'compassion': 464, 'contain': 532, 'undercurrent': 3579, 'subtle': 3174, 'elvive': 1044, 'strayed': 3130, 'sls': 2912, 'wash': 3770, 'soothing': 2982, 'pink': 2095, 'bonus': 293, 'wonder': 3891, 'update': 3637, 'region': 2450, 'assistant': 164, 'questionable': 2324, 'uber': 3559, 'separates': 2752, 'ends': 1082, 'humans': 1557, 'whisper': 3845, 'lifestyle': 1724, 'polyvore': 2154, 'design': 773, 'leads': 1699, 'sin': 2856, 'sides': 2841, 'tbt': 3289, 'sh': 2773, 'europe': 1140, 'stored': 3120, 'hurts': 1561, 'rage': 2352, 'insecure': 1600, 'anywhere': 93, 'condemning': 488, 'seal': 2699, 'favorite': 1288, 'tour': 3459, 'confused': 500, 'falling': 1262, 'tackling': 3261, 'doctors': 902, 'whos': 3854, 'nerd': 1914, 'convention': 553, 'setting': 2765, 'pimp': 2093, 'raini': 2356, 'rocky': 2591, 'whoever': 3850, 'yarn': 3963, 'stash': 3075, 'elementary': 1041, 'third': 3377, 'single': 2863, 'fault': 1287, 'failing': 1252, 'womb': 3888, 'todd': 3420, 'rylin': 2630, 'foods': 1347, 'yash': 3964, 'sooo': 2980, 'compare': 460, 'fateh': 1284, 'factor': 1246, 'instantly': 1604, 'deserves': 772, 'spoon': 3037, 'rolls': 2595, 'context': 538, 'problem': 2248, 'treasure': 3494, 'centered': 374, 'statements': 3078, 'confessions': 494, 'planner': 2106, 'ease': 1004, 'communing': 455, 'teach': 3292, 'discover': 853, 'source': 2997, 'solution': 2958, 'awareness': 200, 'shine': 2801, 'tatsuma': 3286, 'cleaning': 412, 'eerily': 1026, 'interests': 1615, 'yearning': 3969, 'simpler': 2853, 'simple': 2852, 'tons': 3436, 'pages': 2003, 'descriptions': 770, 'stars': 3066, 'verse': 3687, 'revamped': 2555, 'strength': 3133, 'resonating': 2531, 'string': 3139, 'sophist': 2983, 'examples': 1166, 'hands': 1467, 'communicated': 452, 'pure': 2310, 'silence': 2849, 'emily': 1052, 'eat': 1010, 'responsible': 2541, 'burned': 329, 'sun': 3199, 'sensitive': 2743, 'opposite': 1979, 'socializing': 2949, 'rememberiing': 2488, 'cracks': 600, 'insane': 1599, 'systems': 3258, 'extension': 1222, 'selfs': 2731, 'psych': 2291, 'defined': 738, 'yahoo': 3959, 'verrrrrrrryyyy': 3686, 'turkish': 3538, 'vet': 3692, 'hesitant': 1512, 'equation': 1121, 'romantically': 2597, 'rippling': 2580, 'pools': 2158, 'australia': 193, 'sympathy': 3255, 'xx': 3957, 'xelliealicex': 3955, 'atmosphere': 174, 'section': 2714, 'scarce': 2673, 'sight': 2843, 'watchers': 3781, 'wake': 3743, 'touristy': 3461, 'visitors': 3725, 'seagulls': 2698, 'pilings': 2091, 'relaxing': 2470, 'pattern': 2025, 'specialness': 3009, 'reese': 2429, 'kick': 1664, 'platonic': 2116, 'dissolve': 878, 'expect': 1196, 'verses': 3688, 'decade': 721, 'riders': 2569, 'di': 809, 'spazzola': 3005, 'prima': 2238, 'dormire': 924, 'hundred': 1559, 'strokes': 3141, 'film': 1312, 'consequently': 512, 'vision': 3720, 'feeding': 1294, 'odd': 1953, 'superficial': 3206, 'male': 1802, 'treated': 3497, 'princess': 2240, 'youll': 3980, 'indonesia': 1593, 'dancing': 692, 'someday': 2962, 'says': 2669, 'meetings': 1830, 'scratches': 2689, 'wrinkles': 3937, 'evidence': 1156, 'curled': 663, 'shoulders': 2824, 'performances': 2044, 'critically': 633, 'wherever': 3836, 'following': 1344, 'sometime': 2969, 'relative': 2467, 'coworker': 597, 'chocolate': 398, 'square': 3044, 'raising': 2357, 'waited': 3740, 'comparing': 462, 'everybodys': 1150, 'remembering': 2489, 'powers': 2195, 'versus': 3689, 'excitement': 1174, 'coppers': 569, 'zach': 3992, 'traumatised': 3490, 'pestilence': 2064, 'cook': 560, 'unhealthy': 3600, 'convenience': 552, 'avoid': 197, 'starvation': 3073, 'drinks': 961, 'later': 1692, 'copping': 570, 'somewhere': 2973, 'wished': 3879, 'moisturizer': 1863, 'product': 2254, 'designed': 774, 'upload': 3639, 'evident': 1158, 'yearned': 3968, 'river': 2584, 'warming': 3762, 'shorts': 2819, 'energetics': 1085, 'tree': 3499, 'saddened': 2633, 'attire': 185, 'primer': 2239, 'normally': 1931, 'attainable': 179, 'bi': 263, 'jealous': 1640, 'resorted': 2532, 'yesterday': 3973, 'peak': 2029, 'illness': 1571, 'housebound': 1550, 'peckish': 2030, 'brew': 318, 'dumpee': 979, 'slighted': 2901, 'unable': 3566, 'stem': 3092, 'replacement': 2508, 'credit': 618, 'equals': 1120, 'debt': 720, 'interest': 1612, 'dissatisfied': 876, 'petty': 2067, 'rushed': 2624, 'schindlers': 2682, 'tortured': 3450, 'unfairly': 3590, 'airport': 49, 'attack': 177, 'attitudes': 187, 'perform': 2042, 'submarine': 3170, 'violent': 3715, 'tug': 3533, 'fucked': 1378, 'stubborn': 3152, 'insulted': 1606, 'emo': 1054, 'rebellious': 2407, 'dancin': 691, 'twist': 3550, 'explanation': 1211, 'century': 375, 'envious': 1114, 'perfumes': 2047, 'distracted': 884, 'someones': 2966, 'pissed': 2096, 'description': 769, 'conducive': 491, 'philosophy': 2068, 'movie': 1885, 'sharknado': 2789, 'intelligence': 1609, 'settled': 2767, 'weariness': 3799, 'coordinate': 565, 'thatrupert': 3345, 'polite': 2151, 'tenge': 3318, 'impatient': 1580, 'snowy': 2943, 'pine': 2094, 'destined': 788, 'southern': 2999, 'zombies': 3999, 'riku': 2577, 'due': 975, 'plot': 2131, 'grouchy': 1441, 'mental': 1837, 'faculties': 1247, 'crosswords': 640, 'shouldnt': 2826, 'pregant': 2208, 'co': 423, 'workers': 3907, 'apologise': 96, 'angered': 78, 'ehb': 1035, 'dear': 718, 'office': 1961, 'shall': 2781, 'irate': 1625, 'york': 3977, 'outraged': 1993, 'city': 408, 'annoyed': 81, 'experienced': 1203, 'vegetarian': 3679, 'vegan': 3678, 'meat': 1824, 'eater': 1012, 'toxins': 3466, 'irritable': 1626, 'grumpy': 1447, 'whom': 3852, 'split': 3032, 'visiting': 3723, 'confrontation': 499, 'parts': 2016, 'reviews': 2562, 'boys': 308, 'victim': 3700, 'slut': 2915, 'shaming': 2784, 'directly': 833, 'willed': 3865, 'tx': 3553, 'sassiness': 2659, 'experiencing': 1204, 'remotional': 2500, 'dangerous': 693, 'cookie': 561, 'viewed': 3707, 'thug': 3398, 'actions': 19, 'administration': 27, 'affirmation': 37, 'energetically': 1084, 'pursuing': 2313, 'tryin': 3528, 'understad': 3581, 'dats': 704, 'problemn': 2249, 'sum': 3196, 'crime': 626, 'rte': 2613, 'emoticons': 1055, 'sarcastic': 2657, 'greedy': 1435, 'pound': 2189, 'offensive': 1958, 'nearly': 1906, 'realistic': 2397, 'hostile': 1545, 'confirm': 498, 'spiteful': 3030, 'media': 1825, 'campaign': 344, 'egypt': 1033, 'track': 3468, 'stopped': 3116, 'stole': 3110, 'chose': 402, 'clothes': 421, 'immediately': 1578, 'spoiled': 3033, 'ensure': 1099, 'profile': 2259, 'occasion': 1951, 'un': 3565, 'reacting': 2383, 'resident': 2525, 'sinks': 2864, 'entering': 1103, 'offended': 1957, 'bitchy': 271, 'attitude': 186, 'sorts': 2989, 'snobbish': 2940, 'tastes': 3283, 'obnoxious': 1948, 'ate': 170, 'hateful': 1480, 'dreaming': 951, 'apocalypses': 95, 'dragons': 938, 'tubes': 3531, 'attacking': 178, 'cynicism': 679, 'upside': 3646, 'dose': 925, 'daydream': 710, 'bet': 257, 'saint': 2642, 'rate': 2369, 'yall': 3960, 'shut': 2835, 'apples': 105, 'folks': 1341, 'understood': 3584, 'steal': 3090, 'steady': 3088, 'theyve': 3367, 'shouldn': 2825, 'report': 2509, 'mostly': 1877, 'countless': 586, 'showing': 2832, 'concieve': 482, 'everchanging': 1147, 'sailormoon': 2641, 'prove': 2284, 'hating': 1481, 'stuffed': 3160, 'punch': 2306, 'platitudes': 2115, 'sources': 2998, 'whose': 3855, 'faith': 1256, 'tab': 3259, 'helps': 1507, 'refocus': 2438, 'worst': 3917, 'gotten': 1427, 'hoped': 1536, 'weakness': 3794, 'joke': 1647, 'strange': 3125, 'appalled': 99, 'tax': 3287, 'letter': 1717, 'employer': 1065, 'snooty': 2941, 'drunk': 970, 'destroying': 789, 'tension': 3319, 'unease': 3586, 'heartless': 1497, 'therefore': 3360, 'catch': 364, 'criminals': 629, 'crimes': 627, 'continues': 542, 'bite': 272, 'posted': 2182, 'picture': 2086, 'plane': 2103, 'appreciation': 110, 'utter': 3662, 'gratefulness': 1432, 'downright': 932, 'souls': 2992, 'poetry': 2139, 'resemblance': 2520, 'north': 1932, 'fastforwarding': 1281, 'scenes': 2677, 'consequences': 511, 'themed': 3351, 'vicious': 3699, 'eaters': 1013, 'waning': 3753, 'portrayals': 2170, 'soothe': 2981, 'dontknow': 914, 'integrity': 1608, 'dignity': 825, 'savage': 2664, 'wouldve': 3926, 'turkey': 3537, 'enacting': 1071, 'succumb': 3178, 'docs': 900, 'insults': 1607, 'arrogance': 138, 'health': 1490, 'cheated': 391, 'encounter': 1073, 'conversing': 556, 'recognize': 2420, 'essentially': 1132, 'rights': 2575, 'seek': 2719, 'conscience': 508, 'youth': 3987, 'refusal': 2444, 'fate': 1283, 'rules': 2617, 'regimented': 2449, 'roll': 2593, 'seemingly': 2722, 'disposable': 873, 'income': 1590, 'dropping': 966, 'pianos': 2079, 'piano': 2078, 'actively': 21, 'plenty': 2129, 'pms': 2135, 'entered': 1102, 'division': 894, 'everybody': 1149, 'arun': 148, 'solutions': 2959, 'bf': 262, 'criminal': 628, 'details': 790, 'deny': 758, 'uw': 3666, 'dubstep': 974, 'request': 2514, 'rachel': 2341, 'evidenced': 1157, 'main': 1794, 'extend': 1220, 'crew': 624, 'relating': 2463, 'triangle': 3504, 'unconsciously': 3577, 'subconsciously': 3167, 'vile': 3711, 'coupled': 589, 'senior': 2739, 'resent': 2521, 'dollars': 910, 'procedure': 2251, 'wore': 3903, 'glasses': 1412, 'receiving': 2412, 'tch': 3290, 'christian': 405, 'seth': 2763, 'radical': 2349, 'boyfriends': 307, 'sloppy': 2907, 'behaviors': 245, 'def': 731, 'cure': 659, 'lab': 1682, 'resistant': 2528, 'disgust': 860, 'doubtful': 929, 'popped': 2161, 'dealing': 716, 'shoelace': 2812, 'scrubbing': 2695, 'vinegar': 3712, 'rise': 2581, 'rounds': 2610, 'pounds': 2191, 'trash': 3488, 'blogs': 286, 'staring': 3065, 'quivering': 2335, 'shivering': 2808, 'vigorous': 3710, 'sky': 2889, 'picnic': 2084, 'slate': 2893, 'unilaterally': 3603, 'heard': 1493, 'treatment': 3498, 'millions': 1848, 'task': 3280, 'separately': 2751, 'prayer': 2201, 'roommates': 2602, 'argued': 128, 'author': 194, 'verdicts': 3685, 'empathize': 1060, 'discussion': 858, 'spouse': 3039, 'concerning': 480, 'rmb': 2585, 'maternal': 1812, 'engineering': 1090, 'comeback': 433, 'sting': 3108, 'character': 386, 'desk': 778, 'matters': 1814, 'phrase': 2074, 'dumps': 981, 'mildly': 1846, 'upsetting': 3645, 'news': 1921, 'size': 2878, 'wp': 3932, 'essay': 1129, 'slave': 2894, 'separation': 2753, 'sanity': 2655, 'air': 48, 'refresh': 2441, 'skips': 2887, 'virginia': 3716, 'florida': 1334, 'swing': 3247, 'states': 3079, 'busy': 331, 'whore': 3853, 'sniiiiifff': 2937, 'retail': 2547, 'soda': 2953, 'awfully': 205, 'positions': 2172, 'pumpkin': 2305, 'concentrate': 477, 'stress': 3134, 'exhaling': 1183, 'vapor': 3674, 'suck': 3180, 'fangirls': 1272, 'wide': 3857, 'pp': 2196, 'sympathizing': 3254, 'demons': 753, 'played': 2118, 'games': 1390, 'switch': 3250, 'unfaithful': 3591, 'pray': 2200, 'anxious': 86, 'manner': 1806, 'dragged': 936, 'hadnt': 1460, 'throughout': 3395, 'deciding': 725, 'unwell': 3633, 'timing': 3409, 'crone': 636, 'ending': 1079, 'signs': 2848, 'passing': 2020, 'smiths': 2929, 'remorse': 2497, 'defeat': 732, 'securities': 2715, 'witness': 3884, 'sadistic': 2636, 'sliding': 2900, 'constructive': 524, 'research': 2519, 'require': 2515, 'surely': 3220, 'unexpected': 3589, 'drink': 959, 'xango': 3951, 'stiff': 3104, 'sore': 2984, 'executed': 1178, 'puzzles': 2320, 'topping': 3445, 'boss': 298, 'slice': 2898, 'perspective': 2062, 'wasted': 3777, 'failed': 1251, 'entrance': 1111, 'exam': 1163, 'medical': 1826, 'prospects': 2279, 'zambia': 3993, 'dharavi': 807, 'turnovers': 3542, 'emptied': 1067, 'definite': 739, 'development': 800, 'sxe': 3252, 'apology': 98, 'continuing': 543, 'roommate': 2601, 'directions': 832, 'sane': 2653, 'yelling': 3971, 'cancer': 346, 'reduce': 2427, 'commands': 443, 'religious': 2476, 'prohibition': 2268, 'sip': 2866, 'disco': 848, 'swimming': 3246, 'wrapped': 3934, 'log': 1753, 'lifes': 1723, 'weve': 3828, 'refrigerator': 2443, 'reeeeeeeeally': 2428, 'disorganised': 868, 'questions': 2327, 'uuuugh': 3665, 'sweetness': 3243, 'recess': 2415, 'pressing': 2223, 'torso': 3449, 'siwons': 2875, 'faces': 1241, 'cramping': 603, 'determination': 793, 'poo': 2156, 'referred': 2433, 'runnin': 2620, 'fears': 1291, 'gotta': 1426, 'confined': 497, 'stic': 3101, 'executing': 1179, 'apprehensive': 112, 'frightened': 1373, 'assaulted': 160, 'singed': 2862, 'concoction': 485, 'intimidated': 1617, 'alarmed': 50, 'planet': 2104, 'timid': 3408, 'six': 2876, 'sixty': 2877, 'reluctance': 2479, 'employ': 1064, 'tear': 3297, 'plain': 2101, 'force': 1351, 'threatened': 3388, 'uptight': 3647, 'spreading': 3040, 'chatter': 389, 'unsure': 3627, 'childhood': 396, 'lightly': 1726, 'skeptical': 2882, 'sold': 2956, 'frantic': 1363, 'uncertain': 3569, 'stock': 3109, 'rally': 2358, 'pressured': 2225, 'prints': 2243, 'dreams': 952, 'paranoid': 2010, 'conspiracy': 520, 'unsolved': 3624, 'vulnerable': 3736, 'yu': 3989, 'game': 1389, 'poem': 2137, 'dorm': 923, 'distressed': 886, 'rainbows': 2355, 'tragedy': 3474, 'completing': 472, 'relying': 2482, 'vunerable': 3737, 'reluctant': 2480, 'wets': 3827, 'earliest': 997, 'pool': 2157, 'comforted': 438, 'gun': 1453, 'protection': 2280, 'shaky': 2780, 'contemplating': 533, 'wrapping': 3935, 'prom': 2271, 'invitation': 1623, 'couldve': 583, 'regards': 2448, 'tempting': 3315, 'picking': 2083, 'threaten': 3387, 'conducting': 492, 'tango': 3276, 'shaken': 2778, 'neurotic': 1918, 'ativan': 172, 'unsettled': 3623, 'vibrations': 3698, 'shades': 2774, 'reporting': 2510, 'energies': 1086, 'somethings': 2968, 'exposing': 1214, 'arrangment': 136, 'rebuilding': 2408, 'perfectly': 2041, 'snippy': 2938, 'bird': 267, 'erm': 1123, 'unsafe': 3621, 'dizzy': 897, 'meal': 1818, 'displaced': 870, 'snail': 2935, 'plus': 2134, 'texture': 3332, 'cream': 611, 'distraught': 885, 'wimpy': 3868, 'unprotected': 3618, 'safety': 2639, 'exercised': 1182, 'throat': 3393, 'fat': 1282, 'stalker': 3058, 'toy': 3467, 'detatched': 791, 'exiting': 1195, 'application': 106, 'reveal': 2556, 'possibility': 2178, 'examination': 1164, 'tool': 3439, 'entail': 1100, 'talent': 3268, 'etsy': 1138, 'preparing': 2214, 'welfare': 3819, 'unprepared': 3617, 'changing': 384, 'someway': 2971, 'unfocused': 3593, 'writes': 3941, 'bashful': 222, 'defending': 735, 'unrest': 3620, 'events': 1145, 'assuage': 166, 'coz': 599, 'project': 2269, 'diy': 896, 'pregnant': 2210, 'redeem': 2426, 'pulse': 2304, 'loose': 1767, 'ed': 1018, 'xmas': 3956, 'stare': 3063, 'dragging': 937, 'combo': 431, 'barrier': 219, 'schedules': 2679, 'footing': 1349, 'dinks': 827, 'double': 927, 'prettymuch': 2231, 'structure': 3146, 'routine': 2611, 'politicians': 2152, 'tomfoolery': 3430, 'shenanigans': 2795, 'washington': 3772, 'emm': 1053, 'cox': 598, 'booth': 296, 'stepped': 3095, 'whip': 3844, 'crunchy': 646, 'shies': 2799, 'texts': 3331, 'sweeteners': 3242, 'refined': 2434, 'sugars': 3189, 'demonstrate': 754, 'vienna': 3705, 'emptiness': 1068, 'someobdy': 2964, 'closest': 419, 'plugged': 2132, 'flying': 1337, 'suddenly': 3183, 'startled': 3071, 'visibly': 3719, 'result': 2545, 'performance': 2043, 'police': 2147, 'repeating': 2507, 'squeak': 3045, 'trolley': 3515, 'particular': 2013, 'spencers': 3014, 'travel': 3491, 'stoned': 3112, 'endorphin': 1080, 'seizing': 2726, 'petrified': 2066, 'triggering': 3508, 'vomiting': 3731, 'sentinel': 2749, 'councilman': 584, 'dan': 688, 'proposed': 2277, 'policy': 2149, 'committee': 448, 'summed': 3197, 'stereotype': 3097, 'sciences': 2685, 'excitment': 1176, 'xdd': 3954, 'tmr': 3417, 'xd': 3953, 'cya': 676, 'completeness': 471, 'sobered': 2947, 'repay': 2504, 'welling': 3821, 'tasks': 3281, 'virtual': 3717, 'mainly': 1795, 'uncoiling': 3575, 'swim': 3245, 'puff': 2299, 'deke': 745, 'couch': 578, 'floor': 1333, 'singapore': 2861, 'planned': 2105, 'provocative': 2290, 'shape': 2785, 'templates': 3311, 'ring': 2578, 'regrets': 2453, 'tummy': 3535, 'plastic': 2112, 'slippers': 2905, 'dopey': 921, 'wig': 3860, 'account': 11, 'skills': 2883, 'arena': 126, 'ptl': 2296, 'wandering': 3752, 'disaster': 844, 'shoulder': 2823, 'cooped': 563, 'teasing': 3300, 'scrutiny': 2696, 'aa': 0, 'weren': 3825, 'externally': 1225, 'rightly': 2574, 'noted': 1936, 'baltic': 213, 'sea': 2697, 'pleasing': 2127, 'trauma': 3489, 'toronto': 3448, 'degrassi': 743, 'weep': 3810, 'reactions': 2385, 'opinions': 1977, 'scares': 2675, 'speech': 3012, 'retirement': 2549, 'lunch': 1787, 'shortly': 2818, 'tsa': 3530, 'croissants': 635, 'comforting': 439, 'trusty': 3524, 'tourists': 3460, 'wh': 3829, 'warmth': 3764, 'surrender': 3231, 'transcendent': 3480, 'surge': 3223, 'devote': 804, 'violence': 3714, 'ranks': 2362, 'required': 2516, 'protective': 2281, 'reilly': 2457, 'references': 2432, 'dawn': 707, 'shaun': 2791, 'dlpt': 898, 'downers': 931, 'needing': 1910, 'unclear': 3573, 'separate': 2750, 'distrustful': 889, 'approach': 114, 'suspicious': 3235, 'welcome': 3816, 'surprising': 3228, 'relief': 2473, 'decluttering': 728, 'presentations': 2219, 'examine': 1165, 'exempted': 1180, 'assessment': 161, 'senator': 2736, 'empathy': 1061, 'thereof': 3361, 'ward': 3759, 'ponder': 2155, 'temple': 3312, 'stillness': 3106, 'stage': 3055, 'slink': 2903, 'dressed': 956, 'psychologist': 2294, 'courtesy': 592, 'sibling': 2837, 'attending': 183, 'ted': 3303, 'simplicity': 2854, 'uglier': 3560, 'deformed': 742, 'speaking': 3007, 'experts': 1208, 'radiation': 2347, 'david': 706, 'contentedly': 537, 'succeed': 3175, 'unattainable': 3568, 'prolonged': 2270, 'drew': 957, 'sigil': 2844, 'incense': 1587, 'stick': 3102, 'wooden': 3899, 'pulling': 2302, 'smack': 2917, 'solve': 2960, 'dust': 986, 'warp': 3767, 'wednesday': 3805, 'warms': 3763, 'quirky': 2332, 'epic': 1116, 'law': 1695, 'dependent': 761, 'vows': 3735, 'passport': 2022, 'semester': 2734, 'secretly': 2713, 'worries': 3914, 'convince': 557, 'soulmate': 2991, 'regarding': 2446, 'frequently': 1365, 'roads': 2587, 'define': 737, 'transport': 3485, 'policemen': 2148, 'search': 2701, 'runs': 2622, 'wipe': 3875, 'dazed': 712, 'connect': 503, 'artists': 146, 'amazed': 67, 'awe': 202, 'thrift': 3390, 'earning': 1000, 'crown': 644, 'waits': 3742, 'taryn': 3279, 'enclose': 1072, 'weigh': 3812, 'curious': 661, 'disasters': 845, 'swath': 3237, 'rolled': 2594, 'performed': 2045, 'lil': 1730, 'wayne': 3790, 'drake': 940, 'dope': 920, 'windows': 3872, 'vaguely': 3668, 'shock': 2809, 'dated': 702, 'stumped': 3161, 'pen': 2031, 'spin': 3021, 'previous': 2233, 'readings': 2391, 'depth': 766, 'constructivism': 526, 'unit': 3607, 'predictable': 2204, 'loki': 1755, 'fandoms': 1271, 'impressed': 1584, 'rabbits': 2339, 'dreamworld': 953, 'rapidly': 2365, 'towel': 3464, 'deodorant': 760, 'snob': 2939, 'eight': 1037, 'sufficiently': 3186, 'rarely': 2367, 'developers': 799, 'sensory': 2744, 'company': 459, 'continuous': 544, 'wailing': 3739, 'siren': 2867, 'stunned': 3162, 'architectural': 121, 'wonders': 3896, 'wowed': 3931, 'respecting': 2535, 'crashed': 608, 'written': 3944, 'gonna': 1421, 'reproduce': 2512, 'prominent': 2272, 'episodes': 1118, 'snack': 2934, 'wearily': 3798, 'unfolding': 3594, 'tad': 3262, 'stopping': 3117, 'rep': 2503, 'reciting': 2418, 'spiel': 3020, 'shows': 2833, 'aspects': 158, 'plant': 2109, 'silent': 2850, 'compared': 461, 'currently': 666, 'sasha': 2658, 'impacted': 1579, 'endorsed': 1081, 'racist': 2343, 'uttered': 3663, 'travelling': 3492, 'yearn': 3967, 'deceased': 722, 'thanked': 3339, 'fa': 1235, 'eulalias': 1139, 'tho': 3380, 'submit': 3172, 'fan': 1268, 'tastic': 3284, 'por': 2164, 'todo': 3422, 'enthralled': 1106, 'premature': 2211, 'significant': 2847, 'uncertainties': 3570, 'sorrows': 2986, 'rave': 2374, 'unappreciated': 3567, 'schemes': 2681, 'spaces': 3001, 'unworthy': 3635, 'aren': 125, 'row': 2612, 'sale': 2644, 'ludicrous': 1786, 'waste': 3776, 'screenshot': 2692, 'wow': 3930, 'concept': 478, 'scientists': 2686, 'conditions': 490, 'tuned': 3536, 'quote': 2337, 'sooner': 2979, 'cuz': 674, 'armor': 131, 'sucks': 3182, 'statistic': 3080, 'population': 2163, 'entertaining': 1105, 'prefer': 2205, 'toe': 3423, 'spoken': 3035, 'sl': 2890, 'realness': 2403, 'portrayal': 2169, 'condition': 489, 'remembered': 2487, 'pieces': 2090, 'slumber': 2914, 'convoluted': 559, 'exhausting': 1185, 'skdd': 2879, 'smiling': 2927, 'reground': 2454, 'delivered': 749, 'supportiveness': 3215, 'situations': 2874, 'sentence': 2746, 'typed': 3556, 'december': 723, 'protein': 2282, 'diet': 818, 'unique': 3606, 'vibe': 3694, 'korean': 1680, 'translated': 3483, 'spite': 3029, 'demanding': 750, 'tossed': 3451, 'rag': 2351, 'doll': 909, 'darling': 698, 'retrospect': 2550, 'articles': 141, 'readership': 2389, 'related': 2462, 'tech': 3301, 'turns': 3543, 'sorrow': 2985, 'satan': 2661, 'streets': 3132, 'constructions': 523, 'catholic': 365, 'thousands': 3386, 'stared': 3064, 'equally': 1119, 'elder': 1039, 'twin': 3549, 'riding': 2572, 'serious': 2757, 'recollection': 2421, 'wafts': 3738, 'commented': 445, 'velocity': 3681, 'wishing': 3880, 'fahad': 1249, 'skeleton': 2881, 'steps': 3096, 'slugging': 2913, 'yardage': 3962, 'distinct': 882, 'sally': 2645, 'atop': 175, 'encountered': 1074, 'shield': 2798, 'tween': 3546, 'considering': 515, 'waking': 3744, 'difficult': 823, 'cooperation': 564, 'smooth': 2931, 'falsely': 1264, 'expressing': 1217, 'articulate': 142, 'courage': 590, 'yk': 3975, 'fattie': 1286, 'pre': 2202, 'teen': 3304, 'spider': 3019, 'shirt': 2804, 'district': 888, 'explaining': 1210, 'weaknesses': 3795, 'vellas': 3680, 'eyed': 1230, 'approve': 116, 'disapprove': 843, 'dot': 926, 'psycho': 2292, 'experiment': 1205, 'sugar': 3188, 'percieve': 2037, 'pride': 2237, 'waving': 3787, 'surrounded': 3232, 'exclusively': 1177, 'appearance': 101, 'stride': 3137, 'ancestral': 74, 'dryers': 971, 'seattle': 2708, 'showcase': 2829, 'spiritual': 3027, 'whispered': 3846, 'cx': 675, 'ridden': 2567, 'whitley': 3848, 'earthquake': 1003, 'enlist': 1094, 'disbelieving': 846, 'vortex': 3733, 'died': 817, 'remembrance': 2490, 'aryiku': 149, 'falls': 1263, 'tings': 3411, 'washroom': 3773, 'deserted': 771, 'testimony': 3328, 'volunteered': 3730, 'skinner': 2885, 'prose': 2278, 'wars': 3768, 'wot': 3922, 'touched': 3455, 'yuuki': 3991, 'speed': 3013, 'creeps': 623, 'unnecessary': 3615, 'revealed': 2557, 'yard': 3961, 'contemplation': 534, 'consolidation': 519, 'stature': 3082, 'surf': 3221, 'waves': 3786, 'darren': 700, 'poke': 2142, 'stable': 3052, 'dialog': 810, 'stack': 3053, 'twenty': 3547, 'selling': 2733, 'copies': 568, 'discuss': 856, 'compensated': 466, 'earn': 999, 'recreational': 2424, 'unwillingly': 3634, 'willingly': 3867, 'familiarity': 1265, 'politics': 2153, 'realm': 2402, 'usa': 3652, 'dancer': 690, 'console': 518, 'port': 2165, 'arcade': 120, 'sequel': 2755, 'shinobi': 2802, 'revenge': 2559, 'racked': 2345, 'prick': 2236, 'benjamin': 255, 'button': 335, 'review': 2561, 'stayviolation': 3087, 'spontaneously': 3036, 'erratic': 1124, 'swoons': 3251, 'dip': 829, 'dating': 703, 'tales': 3270, 'ritalin': 2583, 'culture': 656, 'transformers': 3482, 'responded': 2537, 'urgency': 3650, 'touching': 3457, 'erik': 1122, 'reminding': 2495, 'pic': 2080, 'starved': 3074, 'psychological': 2293, 'resonate': 2530, 'complications': 473, 'trials': 3503, 'transparent': 3484, 'emphasize': 1063, 'scad': 2671, 'slalom': 2891, 'training': 3478, 'creeped': 621, 'existance': 1193, 'refrain': 2439, 'tools': 3440, 'sandblog': 2650, 'spritzer': 3042, 'connecting': 504, 'stellarium': 3091, 'theyd': 3365, 'peter': 2065, 'robbed': 2588}\n"
     ]
    }
   ],
   "source": [
    "print(vectorizer.vocabulary_)"
   ]
  }
 ],
 "metadata": {
  "colab": {
   "provenance": []
  },
  "kernelspec": {
   "display_name": "Python 3",
   "name": "python3"
  },
  "language_info": {
   "codemirror_mode": {
    "name": "ipython",
    "version": 3
   },
   "file_extension": ".py",
   "mimetype": "text/x-python",
   "name": "python",
   "nbconvert_exporter": "python",
   "pygments_lexer": "ipython3",
   "version": "3.10.4"
  }
 },
 "nbformat": 4,
 "nbformat_minor": 0
}
